{
  "nbformat": 4,
  "nbformat_minor": 0,
  "metadata": {
    "colab": {
      "provenance": [],
      "collapsed_sections": [
        "i4dYMCRgDRsw"
      ],
      "toc_visible": true,
      "include_colab_link": true
    },
    "kernelspec": {
      "name": "python3",
      "display_name": "Python 3"
    },
    "language_info": {
      "name": "python"
    }
  },
  "cells": [
    {
      "cell_type": "markdown",
      "metadata": {
        "id": "view-in-github",
        "colab_type": "text"
      },
      "source": [
        "<a href=\"https://colab.research.google.com/github/Harumaru58/ASD_Autora_notebooks/blob/main/Brown_1_RL_Modeling_Problem_Set_1.ipynb\" target=\"_parent\"><img src=\"https://colab.research.google.com/assets/colab-badge.svg\" alt=\"Open In Colab\"/></a>"
      ]
    },
    {
      "cell_type": "markdown",
      "source": [
        "# Problem Set 1: Fitting a Gambling Model\n",
        "\n",
        "<img src=\"https://github.com/musslick/modeling-in-cognitive-science/blob/main/P1/gambling_brain.png?raw=true\" border=2 height=\"250\"></img>\n",
        "\n",
        "In this problem set, you will practice some of the basics of computational modeling. Specifically, you will get to fit a model to your own behavioral data from a gambling task.\n",
        "\n",
        "## Recommended reading\n",
        "Many of the concepts in this problem set are covered in this article:\n",
        "\n",
        "Wilson, R. C., & Collins, A. G. (2019). Ten simple rules for the computational modeling of behavioral data. *Elife, 8*, e49547.\n",
        "\n",
        "If you get stuck on some of the questions, you may find some answers in there.\n",
        "\n",
        "The article is available as a PDF in ``Stud.IP > Files > Lecture 1 & 2: Basic Concepts > WilsonCollins2019.pdf`` .\n",
        "\n",
        "\n"
      ],
      "metadata": {
        "id": "A71yWEGlt-uG"
      }
    },
    {
      "cell_type": "markdown",
      "source": [
        "## Collect your data\n",
        "\n",
        "First, we need to obtain data that we want to model.\n",
        "\n",
        "**Important:** *To ensure an unbiased data collection (for your own interest), do not skip ahead to the next section. The next section under \"Click to unhide [...]\" will introduce the specifics of the task that you will need to know about after performing the experiment.*\n",
        "\n",
        "### Task Instructions\n",
        "\n",
        "**Scenario:**\n",
        "Imagine you are in a casino, and there are four decks of cards in front of you: A, B, C, and D. Your objective is to maximize your winnings. Each time you choose a card from one of these decks, you'll either gain some money or lose some. The money you gain or loose will be indicated below the deck once you click on it (e.g, \"5\" for a reward of 5 points or \"-5\" for a penalty of 5 points). **You goal is to maximize your final reward which is shown in the middle of the screen.**\n",
        "\n",
        "The picture below shows an example screen. The \"205\" indicates the total reward.\n",
        "\n",
        "<img src=\"https://github.com/musslick/modeling-in-cognitive-science/blob/main/P1/example%20screen.png?raw=true\" border=2 height=\"250\"></img>\n",
        "\n",
        "\n",
        "To start data collection, you can open the link below in your web browser. The experiment will end after you made 100 choices and should take no longer than 10min to complete. After you completed the experiment, your data will be downloaded into your Download folder.\n",
        "\n",
        "Disclaimer: The experiment is executed locally in your browser and no data will be stored online, only locally (on your machine). Once you have the data, make sure to store a copy for the later exercises.\n",
        "\n",
        "Now, click here to complete the experiment: https://younesstrittmatter.github.io/iowaGambling/\n"
      ],
      "metadata": {
        "id": "aY5zK4vcBeGX"
      }
    },
    {
      "cell_type": "markdown",
      "source": [
        "### <font color=\"red\">**Exercise 1 (1 point):**\n",
        "Did you notice anything about the decks? Describe your personal strategy for selecting them. (Note: No points will be deducted if you didn't notice anything. If you didn't notice anything, just describe how you approached the task).</font>"
      ],
      "metadata": {
        "id": "bxYrR4Djy29j"
      }
    },
    {
      "cell_type": "markdown",
      "source": [
        "YOUR ANSWER HERE"
      ],
      "metadata": {
        "id": "P156mHgbaK5k"
      }
    },
    {
      "cell_type": "markdown",
      "source": [
        "## Click to unhide **after you completed Exercise 1**"
      ],
      "metadata": {
        "id": "i4dYMCRgDRsw"
      }
    },
    {
      "cell_type": "markdown",
      "source": [
        "### Iowa Gambling Task\n",
        "\n",
        "The task you completed is called the Iowa Gambling Task. This task is a widely known psychological experiment that offers valuable insights into decision-making and risk assessment. In this task, participants are faced with a scenario that mimics real-life decision-making, where choices have immediate consequences and long-term implications. However, here's the twist – each deck has its own unique risk and reward profile.\n",
        "\n",
        "\n",
        "*   **Deck A (Win: 10 / Loss: -25):** This deck offers larger immediate rewards, but it also comes with substantial losses from time to time.\n",
        "*   **Deck B (Win: 5 / Loss: -5):** This deck offers smaller, more consistent rewards with fewer losses.\n",
        "*   **Deck C (Win: 5 / Loss: -5):** Same as Deck B, it offers smaller rewards with fewer losses.\n",
        "*   **Deck D (Win: 10 / Loss: -25):** Same as Deck A, it provides significant immediate rewards but also has significant losses.\n",
        "\n",
        "Wins and losses are drawn with equal probability (50% win / 50% loss) for each deck. The key challenge is to determine which decks are the most profitable over the long term. At first glance, Decks A and D may seem enticing due to their larger immediate rewards, but the risk of big losses can outweigh the gains. In fact, their expected value is $0.5 * 10 + 0.5 * (-25) = -7.5$\n",
        "\n",
        "On the other hand, Decks C and D appear to be safer options with smaller rewards but more consistent outcomes. Their expected value is $0.5 * 5 + 0.5 * (-5) = 0$. As you can see, the game is designed so that the bank does not loose points on expectation.\n",
        "\n",
        "\n",
        "As noted above, the Iowa Gambling Task has been instrumental in studying human behavior and decision-making in various contexts, from addiction to financial decision-making. As you progress through this problem set, you will explore the learning and decision-making processes behind this task.\n",
        "\n"
      ],
      "metadata": {
        "id": "AWFEgyiSCN1Q"
      }
    },
    {
      "cell_type": "markdown",
      "source": [
        "## Examine your data\n",
        "\n",
        "In this section, you will examine and familiarize yourself with the data. You can perform all analysis in this Python notebook on Google Colaboratory. If you aren't familiar with Google Colaboratory, you can have a look at this [Introduction to Google Colab](https://colab.research.google.com/).\n",
        "\n",
        "Before we begin with analysis and modeling, we need to install some Python packages. Please execute the next code cell."
      ],
      "metadata": {
        "id": "yzS9h7vKILWB"
      }
    },
    {
      "cell_type": "code",
      "source": [
        "!pip install cm-course-uos --upgrade\n",
        "from cm_course_uos import problemset1\n",
        "from google.colab import files\n",
        "\n",
        "import io\n",
        "import random\n",
        "import numpy as np\n",
        "import pandas as pd\n",
        "\n",
        "random.seed(1)\n",
        "np.random.seed(1)"
      ],
      "metadata": {
        "id": "hKxkogXUIBIU",
        "colab": {
          "base_uri": "https://localhost:8080/"
        },
        "outputId": "8c578c03-6fea-463e-a615-2cb008585aa1"
      },
      "execution_count": null,
      "outputs": [
        {
          "output_type": "stream",
          "name": "stdout",
          "text": [
            "Requirement already satisfied: cm-course-uos in /usr/local/lib/python3.10/dist-packages (1.5.15)\n"
          ]
        }
      ]
    },
    {
      "cell_type": "markdown",
      "source": [
        "Before we proceed, make sure to unhide and read through the previous text block \"Click to unhide after you completed Exercise 1\". In Exercise 2, you will be asked to upload your data and plot it. This can be simply done by executing the next code cell, which will prompt a file dialog. Once the dialog opens, simply select your data file.\n",
        "\n",
        "If you prefer to not use your own data, you may use the data stored here: https://github.com/musslick/modeling-in-cognitive-science/blob/main/P1/experiment_data.csv\n",
        "\n",
        "Note: Make sure that your data file is called \"experiment_data.csv\". Also make sure that the data file isn't opened by any other program (e.g., MS Excel) while uploading."
      ],
      "metadata": {
        "id": "WQcYIdxmID60"
      }
    },
    {
      "cell_type": "code",
      "source": [
        "# open file dialog\n",
        "uploaded = files.upload()"
      ],
      "metadata": {
        "id": "voM3ABOkImfG",
        "colab": {
          "base_uri": "https://localhost:8080/",
          "height": 76
        },
        "outputId": "ff50f488-8bb5-4690-ce36-2311c9378176"
      },
      "execution_count": null,
      "outputs": [
        {
          "output_type": "display_data",
          "data": {
            "text/plain": [
              "<IPython.core.display.HTML object>"
            ],
            "text/html": [
              "\n",
              "     <input type=\"file\" id=\"files-03dea68e-30d7-47c5-9a33-875f146db746\" name=\"files[]\" multiple disabled\n",
              "        style=\"border:none\" />\n",
              "     <output id=\"result-03dea68e-30d7-47c5-9a33-875f146db746\">\n",
              "      Upload widget is only available when the cell has been executed in the\n",
              "      current browser session. Please rerun this cell to enable.\n",
              "      </output>\n",
              "      <script>// Copyright 2017 Google LLC\n",
              "//\n",
              "// Licensed under the Apache License, Version 2.0 (the \"License\");\n",
              "// you may not use this file except in compliance with the License.\n",
              "// You may obtain a copy of the License at\n",
              "//\n",
              "//      http://www.apache.org/licenses/LICENSE-2.0\n",
              "//\n",
              "// Unless required by applicable law or agreed to in writing, software\n",
              "// distributed under the License is distributed on an \"AS IS\" BASIS,\n",
              "// WITHOUT WARRANTIES OR CONDITIONS OF ANY KIND, either express or implied.\n",
              "// See the License for the specific language governing permissions and\n",
              "// limitations under the License.\n",
              "\n",
              "/**\n",
              " * @fileoverview Helpers for google.colab Python module.\n",
              " */\n",
              "(function(scope) {\n",
              "function span(text, styleAttributes = {}) {\n",
              "  const element = document.createElement('span');\n",
              "  element.textContent = text;\n",
              "  for (const key of Object.keys(styleAttributes)) {\n",
              "    element.style[key] = styleAttributes[key];\n",
              "  }\n",
              "  return element;\n",
              "}\n",
              "\n",
              "// Max number of bytes which will be uploaded at a time.\n",
              "const MAX_PAYLOAD_SIZE = 100 * 1024;\n",
              "\n",
              "function _uploadFiles(inputId, outputId) {\n",
              "  const steps = uploadFilesStep(inputId, outputId);\n",
              "  const outputElement = document.getElementById(outputId);\n",
              "  // Cache steps on the outputElement to make it available for the next call\n",
              "  // to uploadFilesContinue from Python.\n",
              "  outputElement.steps = steps;\n",
              "\n",
              "  return _uploadFilesContinue(outputId);\n",
              "}\n",
              "\n",
              "// This is roughly an async generator (not supported in the browser yet),\n",
              "// where there are multiple asynchronous steps and the Python side is going\n",
              "// to poll for completion of each step.\n",
              "// This uses a Promise to block the python side on completion of each step,\n",
              "// then passes the result of the previous step as the input to the next step.\n",
              "function _uploadFilesContinue(outputId) {\n",
              "  const outputElement = document.getElementById(outputId);\n",
              "  const steps = outputElement.steps;\n",
              "\n",
              "  const next = steps.next(outputElement.lastPromiseValue);\n",
              "  return Promise.resolve(next.value.promise).then((value) => {\n",
              "    // Cache the last promise value to make it available to the next\n",
              "    // step of the generator.\n",
              "    outputElement.lastPromiseValue = value;\n",
              "    return next.value.response;\n",
              "  });\n",
              "}\n",
              "\n",
              "/**\n",
              " * Generator function which is called between each async step of the upload\n",
              " * process.\n",
              " * @param {string} inputId Element ID of the input file picker element.\n",
              " * @param {string} outputId Element ID of the output display.\n",
              " * @return {!Iterable<!Object>} Iterable of next steps.\n",
              " */\n",
              "function* uploadFilesStep(inputId, outputId) {\n",
              "  const inputElement = document.getElementById(inputId);\n",
              "  inputElement.disabled = false;\n",
              "\n",
              "  const outputElement = document.getElementById(outputId);\n",
              "  outputElement.innerHTML = '';\n",
              "\n",
              "  const pickedPromise = new Promise((resolve) => {\n",
              "    inputElement.addEventListener('change', (e) => {\n",
              "      resolve(e.target.files);\n",
              "    });\n",
              "  });\n",
              "\n",
              "  const cancel = document.createElement('button');\n",
              "  inputElement.parentElement.appendChild(cancel);\n",
              "  cancel.textContent = 'Cancel upload';\n",
              "  const cancelPromise = new Promise((resolve) => {\n",
              "    cancel.onclick = () => {\n",
              "      resolve(null);\n",
              "    };\n",
              "  });\n",
              "\n",
              "  // Wait for the user to pick the files.\n",
              "  const files = yield {\n",
              "    promise: Promise.race([pickedPromise, cancelPromise]),\n",
              "    response: {\n",
              "      action: 'starting',\n",
              "    }\n",
              "  };\n",
              "\n",
              "  cancel.remove();\n",
              "\n",
              "  // Disable the input element since further picks are not allowed.\n",
              "  inputElement.disabled = true;\n",
              "\n",
              "  if (!files) {\n",
              "    return {\n",
              "      response: {\n",
              "        action: 'complete',\n",
              "      }\n",
              "    };\n",
              "  }\n",
              "\n",
              "  for (const file of files) {\n",
              "    const li = document.createElement('li');\n",
              "    li.append(span(file.name, {fontWeight: 'bold'}));\n",
              "    li.append(span(\n",
              "        `(${file.type || 'n/a'}) - ${file.size} bytes, ` +\n",
              "        `last modified: ${\n",
              "            file.lastModifiedDate ? file.lastModifiedDate.toLocaleDateString() :\n",
              "                                    'n/a'} - `));\n",
              "    const percent = span('0% done');\n",
              "    li.appendChild(percent);\n",
              "\n",
              "    outputElement.appendChild(li);\n",
              "\n",
              "    const fileDataPromise = new Promise((resolve) => {\n",
              "      const reader = new FileReader();\n",
              "      reader.onload = (e) => {\n",
              "        resolve(e.target.result);\n",
              "      };\n",
              "      reader.readAsArrayBuffer(file);\n",
              "    });\n",
              "    // Wait for the data to be ready.\n",
              "    let fileData = yield {\n",
              "      promise: fileDataPromise,\n",
              "      response: {\n",
              "        action: 'continue',\n",
              "      }\n",
              "    };\n",
              "\n",
              "    // Use a chunked sending to avoid message size limits. See b/62115660.\n",
              "    let position = 0;\n",
              "    do {\n",
              "      const length = Math.min(fileData.byteLength - position, MAX_PAYLOAD_SIZE);\n",
              "      const chunk = new Uint8Array(fileData, position, length);\n",
              "      position += length;\n",
              "\n",
              "      const base64 = btoa(String.fromCharCode.apply(null, chunk));\n",
              "      yield {\n",
              "        response: {\n",
              "          action: 'append',\n",
              "          file: file.name,\n",
              "          data: base64,\n",
              "        },\n",
              "      };\n",
              "\n",
              "      let percentDone = fileData.byteLength === 0 ?\n",
              "          100 :\n",
              "          Math.round((position / fileData.byteLength) * 100);\n",
              "      percent.textContent = `${percentDone}% done`;\n",
              "\n",
              "    } while (position < fileData.byteLength);\n",
              "  }\n",
              "\n",
              "  // All done.\n",
              "  yield {\n",
              "    response: {\n",
              "      action: 'complete',\n",
              "    }\n",
              "  };\n",
              "}\n",
              "\n",
              "scope.google = scope.google || {};\n",
              "scope.google.colab = scope.google.colab || {};\n",
              "scope.google.colab._files = {\n",
              "  _uploadFiles,\n",
              "  _uploadFilesContinue,\n",
              "};\n",
              "})(self);\n",
              "</script> "
            ]
          },
          "metadata": {}
        },
        {
          "output_type": "stream",
          "name": "stdout",
          "text": [
            "Saving experiment_data.csv to experiment_data (1).csv\n"
          ]
        }
      ]
    },
    {
      "cell_type": "markdown",
      "source": [
        "Execute the next code cell to plot your data. There is no need to parse the code. The plot will be explained below."
      ],
      "metadata": {
        "id": "iqG_w_vdOExn"
      }
    },
    {
      "cell_type": "code",
      "source": [
        "import matplotlib.pyplot as plt\n",
        "from matplotlib.ticker import MaxNLocator\n",
        "\n",
        "# load data\n",
        "data = pd.read_csv(\"experiment_data.csv\")\n",
        "\n",
        "def plot_deck_choices(data, block_size = 20):\n",
        "    # some analysis parameters\n",
        "    num_blocks = len(data.index) // block_size\n",
        "\n",
        "    # Create a new column 'block' by dividing 'trial_index' by 25 and rounding up to create blocks\n",
        "    data['block'] = (data['trial_index']) // block_size + 1\n",
        "\n",
        "    # Group the DataFrame by 'block' and 'risky_deck', and calculate the proportions\n",
        "    block_proportions = data.groupby(['block', 'type'])['type'].count() / block_size\n",
        "\n",
        "    # Convert the Series to a DataFrame and drop the 'risky_deck' column\n",
        "    proportion_safe = list()\n",
        "\n",
        "    # compute proportion safe choices per block\n",
        "    for i in range(num_blocks):\n",
        "      condition = (data['block'] == i + 1) & (data['type'] == 'safe')\n",
        "      proportion_safe.append(condition.sum())\n",
        "\n",
        "    # arrange data\n",
        "    proportion_safe = np.array(proportion_safe)/block_size\n",
        "    proportion_risky = 1 - proportion_safe\n",
        "    blocks = np.arange(1, num_blocks+1)\n",
        "\n",
        "    # Create a line plot\n",
        "    plt.figure(figsize=(10, 6))\n",
        "    plt.plot(blocks, proportion_safe * 100, label='Proportion Safe Choices')\n",
        "    plt.plot(blocks, proportion_risky * 100, label='Proportion Risky Choices')\n",
        "\n",
        "    # Customize the plot\n",
        "    plt.xlabel('Block')\n",
        "    plt.ylabel('Proportion (%)')\n",
        "    plt.title('Proportion of Risky vs. Safe Choices per Block')\n",
        "    plt.legend()\n",
        "\n",
        "    ax = plt.gca()\n",
        "    ax.xaxis.set_major_locator(MaxNLocator(integer=True))\n",
        "\n",
        "plot_deck_choices(data)\n"
      ],
      "metadata": {
        "id": "V1yJWBXeOs32",
        "colab": {
          "base_uri": "https://localhost:8080/",
          "height": 564
        },
        "outputId": "f4e48fdc-2baf-4aab-b403-f08eabb0ca25"
      },
      "execution_count": null,
      "outputs": [
        {
          "output_type": "display_data",
          "data": {
            "text/plain": [
              "<Figure size 1000x600 with 1 Axes>"
            ],
            "image/png": "[encoded data removed]"
          },
          "metadata": {}
        }
      ]
    },
    {
      "cell_type": "markdown",
      "source": [
        "The analysis above divides all 100 trials into five blocks of 20 trials. For each block (x-axis), we compute the proportion of choices where you selected one of the safe decks (either B or C; blue line) and the proportion of choices where you selected one of the risky decks (either A or D; orange line). Both some up to 100%.\n",
        "\n",
        "### <font color=\"red\">**Exercise 2 (1 point):**\n",
        "Briefly describe what you observe from the plot above. Comment on how the proportion of safe choices changes over time.</font>"
      ],
      "metadata": {
        "id": "7VZToqafZE-m"
      }
    },
    {
      "cell_type": "markdown",
      "source": [
        "YOU ANSWER GOES HERE"
      ],
      "metadata": {
        "id": "TbQ-ofiDuKiX"
      }
    },
    {
      "cell_type": "markdown",
      "source": [
        "## Build a model\n",
        "\n",
        "In this part of the problem set, you will implement a computational model of the Iowa Gambling Task, referred to as the Expectancy-Valence Model (Busemeyer & Stout, 2002, in *Psychological Assessment*).  \n",
        "\n",
        "The Expectancy-Valence Model (EVM) is a model used to understand how people make decisions in the Iowa Gambling Task and to figure out why some people prefer risky over safe choices in this task. The model is based on three main components of decision-making: **(1) Valence** (how we perceive wins versus losses), **(2) Expectancy** (how we learn our expectation about the decks), and **(3) Choice** (how we decide which deck to pick next). Let's look at each component separately.\n",
        "\n",
        "### Valence\n",
        "\n",
        "The EVM model recognizes that the value we think we'll get from a deck may not be the same as what we actually gain. To account for this, the EVM uses something called 'valence,' which is like a special function that considers this difference when we pick a card in the game. Formally, valence is a utility function:\n",
        "\n",
        "\\begin{align}\n",
        "v_{i,t} = W \\text{win}_t + (1-W) \\text{loss}_t\n",
        "\\end{align}\n",
        "\n",
        "where\n",
        "\n",
        "*   $v_{i,t}$ is the valence of card deck $i$ at trial $t$,  \n",
        "*   <font color=\"purple\">$0 < W < 1$ is a parameter</font> that regulates how sensitive a person is towards wins,\n",
        "*   $\\text{win}_t$ is the amount of points won on a given trial, and\n",
        "*   $\\text{loss}_t$ is the amount of points lost on a given trial.\n",
        "\n",
        "For instance, if $W = 0.8$ (biased towards wins) and we just obtained a reward of 5 points on the curren trial $t$ (i.e., $\\text{win}_t=5; \\text{loss}_t=0$) by choosing Deck A, then the valence amounts to:\n",
        "\n",
        "\\begin{align}\n",
        "v_{A,t} = 0.8 * 5 + (1-0.8) * 0 = 4\n",
        "\\end{align}\n",
        "\n",
        "### Expectancy\n",
        "\n",
        "The second aspect of this model is about how we learn what to expect from choosing a card deck through experience. Once we've figured out the Valence of the chosen deck (how much we liked the outcome of a deck), we use it as part of our overall understanding of that deck. This combination of Valence and what we've learned about the deck forms our Expectancy.\n",
        "\n",
        "\\begin{align}\n",
        "E_{i,t} = (1 - \\alpha) E_{i,t-1} + \\alpha * v_{i,t}\n",
        "\\end{align}\n",
        "\n",
        "where\n",
        "\n",
        "*   $E_{i,t}$ is the expectancy of card deck $i$ at trial $t$,\n",
        "*   $E_{i,t-1}$ is the expectancy of card deck $i$ at the previous trial $t-1$,  \n",
        "*   <font color=\"purple\">$0 < \\alpha < 1$  is the weighting parameter</font> which determines the updating rate of the Expectancy (akin to a learning rate), and\n",
        "*   $v_{i,t}$ is the valence of card deck $i$ at trial $t$ (as computed above).\n",
        "\n",
        "For example, if we have an update rate of $\\alpha = 0.2$, and assume that our expectancy of Deck A on the previous trial was $E_{A,t-1}=0$, and we assume the valence value $v_{A,t} = 4$ above, then our current expectancy of Deck A in the current trial $t$ computes to:\n",
        "\n",
        "\\begin{align}\n",
        "E_{A,t} = (1 - 0.2) * 0 + 0.2 * 4 = 0.8\n",
        "\\end{align}\n",
        "\n",
        "### Choice\n",
        "\n",
        "Lastly, our model needs to decide how to pick the next deck. Here, we will use the softmax function that we know from the lecture, but with a small twist.\n",
        "\n",
        "\\begin{align}\n",
        "P(D_{i,t+1}) = \\frac{e^{E_{i,t} \\beta(t)}}{\\sum^4_{j=1}{e^{E_{j,t} \\beta(t)}}} = \\frac{e^{E_{i,t} \\beta(t)}}{e^{E_{1,t} \\beta(t)} + e^{E_{2,t} \\beta(t)} + e^{E_{3,t} \\beta(t)} + e^{E_{4,t} \\beta(t)}}\n",
        "\\end{align}\n",
        "\n",
        "where\n",
        "\n",
        "\n",
        "*   $P(D_{i,t+1})$ is the probability of choosing deck $D_{i,t+1}$ in the next trial,\n",
        "*   $E_{i,t}$ is the expectancy of that deck,\n",
        "*   $E_{j,t}$ is the expectancy of any deck, and\n",
        "*   $\\beta(t)$ determines the \"softness\" of the choice (lower values -> more exploration) and varies across trials $t$.\n",
        "\n",
        "As the experiment progresses, participants may get a bit fatigued or bored and choices become more random. Alternatively, participants get more motivated as the experiment progress and choices become more deterministic. Changes in the \"noisyness\" of the choice process are expressed as follows:\n",
        "\n",
        "\n",
        "\\begin{align}\n",
        "\\beta(t) = \\left(\\frac{t}{10}\\right)^c\n",
        "\\end{align}\n",
        "\n",
        "for trial $t$ where <font color=\"purple\">$c$ is the third parameter</font>, regulating whether whether the decision gets more noisy over time ($c < 0$), stays as noisy ($c = 0$), or gets less noisy over time ($c > 0$). Thus, negative values of c will implement greater exploration with progress on the task by decreasing the sensitivity the Expectancy values and increasing the number of random choices. To avoid numerical instabilities, we will bound $-2 < c < 2$.\n",
        "\n",
        "### Summary\n",
        "\n",
        "The Expectancy-Valence Model learnes the expectancy of a deck based on the valence of outcome associated with chosing that deck. It then chooses the decks based on their expectancy. The model has the following <font color=\"purple\">free parameters</font>:\n",
        "\n",
        "*   $0 < W < 1$ is a parameter that regulates how sensitive a person is towards wins and plays a role in computing the Valence of an outcome,\n",
        "*   $0 < \\alpha < 1$  is the weighting parameter which determines the updating rate of the Expectancy, and\n",
        "*   $-2 < c < 2$  determines whether choices become more or less noisy over the course of the experiment.\n",
        "\n",
        "\n",
        "\n"
      ],
      "metadata": {
        "id": "ctRQHkDmbENy"
      }
    },
    {
      "cell_type": "markdown",
      "source": [
        "### Implementation\n"
      ],
      "metadata": {
        "id": "u5ZBEyPmlKR4"
      }
    },
    {
      "cell_type": "markdown",
      "source": [
        "### <font color=\"red\">**Exercise 3 (3 points):**\n",
        "The following set of functions implements the model. The only problem is that some of the lines of code are missing. These lines are a marked in the code with \"``YOUR ANSWER GOES HERE``\", and can be found in the following functions: ``compute_valence``, ``compute_expectancy``, and ``compute_expectancy``, and ``compute_choice_probabilities``.  Your task is to complete these lines so that they implement the model outlined above.</font>\n",
        "\n",
        "**Note:** *To test if your function produces the correct output, you can simply execute the respective code cell. If the result says \"Your [function_name] function creates correct outputs!\" then your answer is correct.*"
      ],
      "metadata": {
        "id": "xPcRKKyayntx"
      }
    },
    {
      "cell_type": "markdown",
      "source": [
        "#### Valence Function"
      ],
      "metadata": {
        "id": "-70DyIwBnujl"
      }
    },
    {
      "cell_type": "code",
      "source": [
        "def compute_valence(deck_result, W):\n",
        "  '''\n",
        "  This function computes the valence as denoted above.\n",
        "\n",
        "  Input arguments:\n",
        "    deck_result: The result of the selected deck (in points)\n",
        "    W: The valence parameter\n",
        "  '''\n",
        "\n",
        "  # first compute win and loss depending on points received\n",
        "  if deck_result > 0:\n",
        "    win = deck_result\n",
        "    loss = 0\n",
        "  else:\n",
        "    win = 0\n",
        "    loss = deck_result\n",
        "\n",
        "  # compute valence term\n",
        "  valence = W*win + (1-W)*loss\n",
        "  return valence\n",
        "\n",
        "problemset1.test_compute_valence(compute_valence) # DO NOT REMOVE THIS\n"
      ],
      "metadata": {
        "id": "29AhHEtVmcOX",
        "colab": {
          "base_uri": "https://localhost:8080/"
        },
        "outputId": "2c9786ee-1e42-4ab2-a26d-0ef2cf38ffff"
      },
      "execution_count": null,
      "outputs": [
        {
          "output_type": "stream",
          "name": "stdout",
          "text": [
            "Your compute_valence function creates correct outputs!\n"
          ]
        },
        {
          "output_type": "execute_result",
          "data": {
            "text/plain": [
              "True"
            ]
          },
          "metadata": {},
          "execution_count": 10
        }
      ]
    },
    {
      "cell_type": "markdown",
      "source": [
        "#### Expectancy Function"
      ],
      "metadata": {
        "id": "KYVH-X3lpMBY"
      }
    },
    {
      "cell_type": "code",
      "source": [
        "def compute_expectancy(previous_expectancy, alpha, valence):\n",
        "  '''\n",
        "  This function computes the expectancy as denoted above.\n",
        "\n",
        "  Input arguments:\n",
        "    previous_expectancy: expectancy of current deck on previous trial\n",
        "    alpha: update parameter\n",
        "    valence: valence of current deck on current trial\n",
        "  '''\n",
        "\n",
        "  # compute expectancy term\n",
        "  new_expectancy = (1-alpha)*previous_expectancy + alpha * valence\n",
        "  return new_expectancy\n",
        "\n",
        "problemset1.test_compute_expectancy(compute_expectancy) # DO NOT REMOVE THIS\n"
      ],
      "metadata": {
        "id": "WMToS7b-pJ6A",
        "colab": {
          "base_uri": "https://localhost:8080/"
        },
        "outputId": "dc3a95d8-c29e-499d-8687-f58ddeb6eb2c"
      },
      "execution_count": null,
      "outputs": [
        {
          "output_type": "stream",
          "name": "stdout",
          "text": [
            "Your compute_expectancy function creates correct outputs!\n"
          ]
        },
        {
          "output_type": "execute_result",
          "data": {
            "text/plain": [
              "True"
            ]
          },
          "metadata": {},
          "execution_count": 11
        }
      ]
    },
    {
      "cell_type": "markdown",
      "source": [
        "#### Choice Function"
      ],
      "metadata": {
        "id": "pp-0azO0qDTQ"
      }
    },
    {
      "cell_type": "code",
      "source": [
        "def compute_choice_probabilities(expectancies, trial_number, c):\n",
        "  '''\n",
        "  This function computes the choice probabilities for each deck based on the\n",
        "  current expectancies\n",
        "\n",
        "  Input arguments:\n",
        "    expectancies: a list of expectancies for all four decks\n",
        "    trial_number: number of the current trial\n",
        "    c: parameter used to compute beta\n",
        "  '''\n",
        "  # compute beta\n",
        "  beta = pow((trial_number+1)/10, c)\n",
        "\n",
        "  # compute softmaxed choice proabbilities\n",
        "  # hint: you may use np.exp and np.sum to compute the exponential and sum functions respectively\n",
        "\n",
        "  choice_probs = # YOUR ANSWER GOES HERE\n",
        "\n",
        "  return choice_probs\n",
        "\n",
        "# no need to change the function below\n",
        "def compute_choice(expectancies, trial_number, c):\n",
        "  '''\n",
        "  This function computes the index of the chosen deck for the next trial\n",
        "\n",
        "  Input arguments:\n",
        "    expectancies: a list of expectancies for all four decks\n",
        "    trial_number: number of the current trial\n",
        "    c: parameter used to compute beta\n",
        "  '''\n",
        "\n",
        "  # compute softmaxed choice proabbilities\n",
        "  choice_probs = compute_choice_probabilities(expectancies, trial_number, c)\n",
        "\n",
        "  # compute cumulated sums\n",
        "  cumulated_choice_probs = np.cumsum(choice_probs)\n",
        "\n",
        "  # draw random number between 0 and 1\n",
        "  random_number = random.random()\n",
        "\n",
        "  # choose deck index depending on choice probabilities\n",
        "  index = 0\n",
        "\n",
        "  # Iterate through the cumulative sums to find the first index where the random number exceeds the cumulative sum\n",
        "  while index < len(cumulated_choice_probs) and random_number > cumulated_choice_probs[index]:\n",
        "      index += 1\n",
        "\n",
        "  return index\n",
        "\n",
        "problemset1.test_compute_choice_probs(compute_choice_probabilities) # DO NOT REMOVE THIS"
      ],
      "metadata": {
        "id": "zllhyUP7qJGN"
      },
      "execution_count": null,
      "outputs": []
    },
    {
      "cell_type": "markdown",
      "source": [
        "In addition to the automated checks, you may use the following code to debug your functions:"
      ],
      "metadata": {
        "id": "0oZi9uLRthqS"
      }
    },
    {
      "cell_type": "code",
      "source": [
        "# parameters\n",
        "W = 0.5\n",
        "alpha = 0.1\n",
        "c = 0\n",
        "\n",
        "# experiment variables\n",
        "trial_number = 1\n",
        "chosen_deck = 3 # counting decks from 0 to 3 (A: 0, B: 1, C: 2, D: 3)\n",
        "deck_result = 50\n",
        "\n",
        "expectancies = np.zeros(4)\n",
        "\n",
        "valence = compute_valence(deck_result, W)\n",
        "print(\"Valence = \" + str(valence))\n",
        "\n",
        "expectancies[chosen_deck] = compute_expectancy(expectancies[chosen_deck], alpha, valence)\n",
        "print(\"Expectancy = \" + str(expectancies[chosen_deck]))\n",
        "\n",
        "choice_probs = compute_choice_probabilities(expectancies, trial_number, c)\n",
        "print(\"Choice probabilities = \" + str(choice_probs))\n",
        "\n",
        "choice = compute_choice(expectancies, trial_number, c)\n",
        "print(\"Chosen deck = \" + str(choice))"
      ],
      "metadata": {
        "id": "ykrixiUTsdXw"
      },
      "execution_count": null,
      "outputs": []
    },
    {
      "cell_type": "markdown",
      "source": [
        "## Simulate data from the model\n",
        "\n",
        "As a next step, we will use the implementation of the model above to simulate data from it.\n",
        "\n",
        "To simulate data, we need to define our task environment. Let's assume the following wins and losses for our decks:\n",
        "\n",
        "**Wins / Losses**\n",
        "*   Deck A: 10 / -25\n",
        "*   Deck B: 5 / -5\n",
        "*   Deck C: 5 / -5\n",
        "*   Deck D: 10 / -25\n",
        "\n",
        "\n",
        "As you may notice, Decks A and D are the risky decks. While they yield greater rewards compared to B and C, they also yield much greater losses.\n",
        "\n",
        "Here, we assume that wins occur with 50% probability and losses also with 50% probability. This means, Decks A and D have an expected value of $0.5 * 10 + 0.5 (-25) = -7.5$. Decks B and C, on the other hand, have an expected value of $0.5 * 5 + 0.5 (-5) = 0$.\n"
      ],
      "metadata": {
        "id": "f2e-lzaX7RNa"
      }
    },
    {
      "cell_type": "markdown",
      "source": [
        "In the following code, we will define two helper functions.\n",
        "*   ``observe_deck_result`` function allows us to draw an outcome given the wins, losses, and respective probabilities for any given trial.\n",
        "*   ``log_data`` function allows us to log all outcomes of a simulation into a dataframe.\n",
        "\n",
        "Make sure to execute the next code cell. There is no need to dig into the code of the functions."
      ],
      "metadata": {
        "id": "fLi4zru0ehvL"
      }
    },
    {
      "cell_type": "code",
      "source": [
        "def observe_deck_result(wins, losses, win_probability, choice):\n",
        "  '''\n",
        "  This function returns the outcome of choosing a deck.\n",
        "\n",
        "  Input arguments:\n",
        "    wins: wins for Decks A, B, C, and D\n",
        "    losses: losses for Decks A, B, C, and D\n",
        "    win_probability: chance of obtaining a win from a deck\n",
        "    choice: the index of the chosen deck (0: A, 1: B, 2: C, 3: D)\n",
        "  '''\n",
        "  random_number = random.random()\n",
        "  if random_number <= win_probability:\n",
        "    return wins[choice]\n",
        "  else:\n",
        "    return losses[choice]\n",
        "\n",
        "\n",
        "def log_data(df, trial_number, expectancies, choice, wins, losses, deck_result):\n",
        "  '''\n",
        "  This function logs several outcomes of the simulation into a data frame.\n",
        "\n",
        "  Input arguments:\n",
        "    df: a Pandas dataframe in which we write the data\n",
        "    trial_index: current trial number\n",
        "    expectancies: expectancies of all decks\n",
        "    choice: the index of the chosen deck (0: A, 1: B, 2: C, 3: D)\n",
        "    wins: wins for Decks A, B, C, and D\n",
        "    losses: losses for Decks A, B, C, and D\n",
        "    deck_result: the value obtained from choosing the deck\n",
        "  '''\n",
        "  if wins[choice] == np.min(wins):\n",
        "    type = \"safe\"\n",
        "  else:\n",
        "    type = \"risky\"\n",
        "\n",
        "  new_row = pd.DataFrame({'trial_index': trial_number,\n",
        "             'E(A)': expectancies[0],\n",
        "             'E(B)': expectancies[1],\n",
        "             'E(C)': expectancies[2],\n",
        "             'E(D)': expectancies[3],\n",
        "             'choice_index': choice,\n",
        "             'type': type,\n",
        "             'reward': wins[choice],\n",
        "             'penalty': losses[choice],\n",
        "             'value': deck_result}, index=[0])\n",
        "\n",
        "  df = pd.concat([df, new_row], axis=0, ignore_index=True)\n",
        "  return df"
      ],
      "metadata": {
        "id": "yKE3RzuWB1-c"
      },
      "execution_count": null,
      "outputs": []
    },
    {
      "cell_type": "markdown",
      "source": [
        "Next, we can simulate data from our model. This is will use the simulated data later on to examine how well we can recover the model from the data in principle. However, first we need to write a simulation function..."
      ],
      "metadata": {
        "id": "nU4Coe9kh8G-"
      }
    },
    {
      "cell_type": "markdown",
      "source": [
        "### <font color=\"red\">**Exercise 4 (2 points):**\n",
        "Use the function below to simulate 100 trials from the model. Most of the function is already written but you need to fill in a couple lines. The gaps in the code are a marked in the code with \"``YOUR ANSWER GOES HERE``\".</font>\n",
        "\n",
        "**Note:** *To test if your function produces the correct output, you can simply execute the respective code cell. If the result says \"Your [function_name] function creates correct outputs!\" then your answer is correct.*"
      ],
      "metadata": {
        "id": "NaqwTH4Y-701"
      }
    },
    {
      "cell_type": "code",
      "source": [
        "def simulate_model(num_trials, wins, losses, win_probability, W, alpha, c):\n",
        "  '''\n",
        "  This function simulates the expectancy valence model for a certain number of trials.\n",
        "  It returns a dataframe with simulation results.\n",
        "\n",
        "  Input arguments:\n",
        "    wins: wins for Decks A, B, C, and D\n",
        "    losses: losses for Decks A, B, C, and D\n",
        "    win_probability: chance of obtaining a win from a deck\n",
        "    W: the valence parameter\n",
        "    alpha: the update parameter\n",
        "    c: parameter used to compute the softmax parameter beta\n",
        "  '''\n",
        "  # initialize the model\n",
        "  expectancies = np.zeros(4)\n",
        "\n",
        "  # we will log the entire simulation in a dataframe\n",
        "  df = pd.DataFrame(columns=['trial_index', 'E(A)', 'E(B)', 'E(C)', 'E(D)','choice_index', 'type', 'value'])\n",
        "\n",
        "  for trial_number in range(num_trials):\n",
        "\n",
        "    # make a choice\n",
        "    chosen_deck_index = problemset1.compute_choice(expectancies, trial_number, c)\n",
        "\n",
        "    # YOUR ANSWER GOES HERE\n",
        "\n",
        "    # Hint: You may use the functions observe_deck_result, compute_valence, and compute_expectancy\n",
        "    # If your compute_valence and compute_expectancy don't pass the tests above, then you may use\n",
        "    # the problemset1.compute_valence and problemset1.compute_expectancy functions instead (they have\n",
        "    # the same inputs and outputs).\n",
        "\n",
        "    # log results\n",
        "    df = log_data(df, trial_number, expectancies, chosen_deck_index, wins, losses, deck_result)\n",
        "\n",
        "  return df\n",
        "\n",
        "problemset1.test_simulate_model(simulate_model)"
      ],
      "metadata": {
        "id": "_ET-1qqeaFJq"
      },
      "execution_count": null,
      "outputs": []
    },
    {
      "cell_type": "markdown",
      "source": [
        "Now it is time to examine the behavior of the model and get an intuition for its parameters."
      ],
      "metadata": {
        "id": "4Vc-2Uxrp139"
      }
    },
    {
      "cell_type": "markdown",
      "source": [
        "### <font color=\"red\">**Exercise 5 (4 points):**\n",
        "Execute the code block below (exercise instruction are continued below).</font>"
      ],
      "metadata": {
        "id": "IFC-KsaOoFkT"
      }
    },
    {
      "cell_type": "code",
      "source": [
        "# experiment parameters\n",
        "wins = [10, 5, 5, 10] # wins for Decks A, B, C, and D\n",
        "losses = [-25, -5, -5, -25] # losses for Decks A, B, C, and D\n",
        "win_probability = 0.5 # chance of obtaining a win from a deck\n",
        "num_trials = 200\n",
        "\n",
        "# model parameters (default: W = 0.5; alpha = 0.1; c = 0)\n",
        "W = 0.5\n",
        "alpha = 0.1\n",
        "c = 0\n",
        "\n",
        "random.seed(1) # DO NOT REMOVE THIS LINE\n",
        "df = problemset1.simulate_model(num_trials, wins, losses, win_probability, W, alpha, c)\n",
        "plot_deck_choices(df)\n"
      ],
      "metadata": {
        "id": "LgcZUC-l-6-3"
      },
      "execution_count": null,
      "outputs": []
    },
    {
      "cell_type": "markdown",
      "source": [
        "<font color=\"red\">Examine the impact of the parameters alpha and W by executing the code block above.</font>\n",
        "\n",
        "<font color=\"red\">**(1)** **What happens** if you change the alpha from ``alpha = 0.1`` to ``alpha = 0.001`` (assuming ``W = 0.5`` and ``c = 0``) **and why**? (2 points) </font>\n",
        "\n",
        "<font color=\"red\">**(2)** **What happens** if you change the W from ``W = 0.5`` to ``W = 0.99`` (assuming ``alpha = 0.1`` and ``c = 0``) **and why**? (2 points) </font>\n",
        "\n",
        "<font color=\"red\">Enter your answers in the text box below.</font>\n",
        "\n",
        "**Note:** *To make observations easier, we increased the number of trials from 100 to 200.*"
      ],
      "metadata": {
        "id": "Qk1Qnl07qviM"
      }
    },
    {
      "cell_type": "markdown",
      "source": [
        "YOUR ANSWER GOES HERE."
      ],
      "metadata": {
        "id": "u67HG3i6q2Tg"
      }
    },
    {
      "cell_type": "markdown",
      "source": [
        "## Fit model to data\n",
        "\n",
        "Now that we have gained some understanding of the model, it is time to think about how we can fit the model to the data. Fitting the model is useful for at least two reasons: (1) We can fit the model to its own data to examine how well we can recover its parameters, and (2) we can fit the model to the actual experiment data."
      ],
      "metadata": {
        "id": "HUuEX45ma-0r"
      }
    },
    {
      "cell_type": "markdown",
      "source": [
        "### <font color=\"red\">**Exercise 6 (2 points):**\n",
        "To fit the model, we will use the maximum likelihood method. This involves identifying the parameters that maximize the log likelihood of the data given the parameters. The function below computes the log likelihood for a given dataset. And as you may have already guessed, there is a gap in the code where the log likelihood is computed. This gap is marked with \"``YOUR ANSWER GOES HERE``\". Your task is to fill in the gap.</font>\n",
        "\n",
        "**Note:** *To test if your function produces the correct output, you can simply execute the respective code cell. If the result says \"Your [function_name] function creates correct outputs!\" then your answer is correct.*"
      ],
      "metadata": {
        "id": "FUxxb7s3vl-6"
      }
    },
    {
      "cell_type": "code",
      "source": [
        "def compute_log_likelihood(df, W, alpha, c):\n",
        "  '''\n",
        "  This function computes the log likelihood for a given set of model parameters\n",
        "\n",
        "  Input arguments:\n",
        "    df: data frame\n",
        "    W: the valence parameter\n",
        "    alpha: the update parameter\n",
        "    c: parameter used to compute the softmax parameter beta\n",
        "  '''\n",
        "  # initialize log likelihood\n",
        "  LL = 0\n",
        "\n",
        "  # initialize the model\n",
        "  expectancies = np.zeros(4)\n",
        "\n",
        "  num_trials = len(df)\n",
        "\n",
        "  for trial_number in range(num_trials):\n",
        "\n",
        "    # when computing the likelihood, we don't need to make a choice\n",
        "    # instead, we observe the choice from the data\n",
        "    chosen_deck_index = df['choice_index'][trial_number]\n",
        "\n",
        "    # next, we compute the log likelihood of that choice given the model and its parameters\n",
        "    # Hint: If your ``compute_choice_probabilities`` from above does not pass the automated test,\n",
        "    # you may use the problemset1.compute_choice_probabilities(expectancies, trial_number, c) function\n",
        "\n",
        "    LL = # YOUR ANSWER GOES HERE\n",
        "\n",
        "    # next, we observe the result obtained from that trial and compute the valence\n",
        "    deck_result = df['value'][trial_number]\n",
        "\n",
        "    # compute valence\n",
        "    valence = problemset1.compute_valence(deck_result, W)\n",
        "\n",
        "    # update expectancy of chosen deck\n",
        "    expectancies[chosen_deck_index] = problemset1.compute_expectancy(expectancies[chosen_deck_index], alpha, valence)\n",
        "\n",
        "  return LL\n",
        "\n",
        "problemset1.test_compute_log_likelihood(compute_log_likelihood)"
      ],
      "metadata": {
        "id": "q0g4r7Bca9Lp"
      },
      "execution_count": null,
      "outputs": []
    },
    {
      "cell_type": "markdown",
      "source": [
        "### Interpreting the log-likelihood surface"
      ],
      "metadata": {
        "id": "HPA0djZwiply"
      }
    },
    {
      "cell_type": "markdown",
      "source": [
        "Before we fit the model to experimental data (and draw rash conclusions about the fitted parameters), we want to examien whether we can actually recover the model parameters reliably. To do so, we can first simulate data from the model given some fixed parameters ``true_W = 0.5; true_alpha = 0.1; c = 0``. We call this simulated data \"surrogate\" data since as it will help us evaluate the parameter recoverability.\n",
        "\n",
        "Once we generated the surrogate data, we can fit the model to the data. This involves computing the log likelihood for every parameter combination. To ease interpretation, we assume that we already know the correct parameter for ``alpha`` and focus on fitting only the ``W`` and ``c`` parameters. That is, we are looking for a combination of ``W`` and ``c`` that maximizes the log likelihood of the data given the model. Here, we consider a search space of $-0.5 < c < 0.5$ and $-0.2 < W < 0.8$.\n",
        "\n",
        "The code block below computes the log likelihood for each parameter information and then plots the log likelihood across the entire search space (for each probed ``c`` and ``W``). Execute the code block below.\n"
      ],
      "metadata": {
        "id": "5UwpVEsF4GCQ"
      }
    },
    {
      "cell_type": "code",
      "source": [
        "# experiment parameters\n",
        "wins = [10, 5, 5, 10] # wins for Decks A, B, C, and D\n",
        "losses = [-25, -5, -5, -25] # losses for Decks A, B, C, and D\n",
        "win_probability = 0.5 # chance of obtaining a win from a deck\n",
        "num_trials = 100\n",
        "\n",
        "# model parameters\n",
        "true_W = 0.5\n",
        "true_alpha = 0.1\n",
        "true_c = 0\n",
        "\n",
        "# search space over parameters c and W (alpha is assumed to be known)\n",
        "c_values = np.linspace(-0.5, 0.5, 11)\n",
        "W_values = np.linspace(0.2, 0.8, 11)\n",
        "alpha = true_alpha\n",
        "\n",
        "# obtain surrogate data by simulating the model\n",
        "df = problemset1.simulate_model(num_trials, wins, losses, win_probability,\n",
        "                    true_W, true_alpha, true_c)\n",
        "\n",
        "# we will store our log likelihoods in this matrix\n",
        "LL_matrix = np.zeros((len(c_values), len(W_values)))\n",
        "\n",
        "# loop through each parameter combination (grid search)\n",
        "for c_idx, c in enumerate(c_values):\n",
        "  for W_idx, W in enumerate(W_values):\n",
        "\n",
        "    # compute log likelihood\n",
        "    LL = compute_log_likelihood(df, W, alpha, c)\n",
        "\n",
        "    # store log likelihood in the data matrix\n",
        "    LL_matrix[c_idx, W_idx] = LL\n",
        "\n",
        "# Create a heatmap of the data matrix\n",
        "plt.imshow(LL_matrix, cmap='viridis')\n",
        "\n",
        "# Add a colorbar to the plot\n",
        "cbar = plt.colorbar()\n",
        "cbar.set_label('Log Likelihood', rotation=270, labelpad=15)\n",
        "\n",
        "# Set custom tick labels for the X and Y axes\n",
        "x_ticks = W_values\n",
        "y_ticks = c_values\n",
        "visible_ticks_x = [x_ticks[0], x_ticks[len(x_ticks) // 2], x_ticks[-1]]\n",
        "visible_ticks_y = [y_ticks[0], y_ticks[len(y_ticks) // 2], y_ticks[-1]]\n",
        "\n",
        "# Set the positions and labels for the visible ticks\n",
        "plt.xticks([0, len(x_ticks) // 2, len(x_ticks) - 1], visible_ticks_x)\n",
        "plt.yticks([0, len(y_ticks) // 2, len(y_ticks) - 1], visible_ticks_y)\n",
        "\n",
        "# Add labels to the axes\n",
        "plt.xlabel('W')\n",
        "plt.ylabel('c')"
      ],
      "metadata": {
        "id": "mjBShgXMdbU6"
      },
      "execution_count": null,
      "outputs": []
    },
    {
      "cell_type": "markdown",
      "source": [
        "### <font color=\"red\">**Exercise 7 (4 points):**\n",
        "Execute the code block above. </font>\n",
        "\n",
        "<font color=\"red\">**(1)** If the parameters were perfectly recoverable, where in this surface (for which c and which W) would you expect the highest log likelihood?  (1 point) </font>\n",
        "\n",
        "<font color=\"red\">**(2)** Execute the code block multiple times. You will observe that the likelihood surface changes every time you execute the code block. Why does it change and where does this variability come from? (1 point) What does this variability tell you about your ability to recover model parameters for your own data? (1 point)</font>\n",
        "\n",
        "<font color=\"red\">**(3)** Execute the code block multiple times. Based on the likelihood surface, what can you infer about the relationship between the two parameters c and W in terms of their impact on the model's behavior? (1 point)</font>\n",
        "\n",
        "<font color=\"red\">Enter your answers in the text box below.</font>"
      ],
      "metadata": {
        "id": "eErKxfYF6S-a"
      }
    },
    {
      "cell_type": "markdown",
      "source": [
        "YOUR ANSWER GOES HERE"
      ],
      "metadata": {
        "id": "iZcaSn9a6QUG"
      }
    },
    {
      "cell_type": "markdown",
      "source": [
        "### Examining parameter recoverability"
      ],
      "metadata": {
        "id": "2hKS1GiYivj_"
      }
    },
    {
      "cell_type": "markdown",
      "source": [
        "To examine parameter recoverability, we can initialize many instances of the model (with randomly sampled <font color=\"green\">true parameters</font>) and then generate surrogate data from each. We can then fit the model to each surrogate data set in order to obtain the <font color=\"blue\">recovered parameters</font>. Doing so, allows us to compute the Pearson correlation between the <font color=\"green\">true parameters</font> and the <font color=\"blue\">recovered parameters</font>. Execute the code block below to obtain these correlations.\n",
        "\n",
        "**Note:** *Here, we seek to recover all three parameters: ``c``, ``W``, and ``alpha``.*"
      ],
      "metadata": {
        "id": "hFwa9K4AOKUg"
      }
    },
    {
      "cell_type": "code",
      "source": [
        "random.seed(1) # DON'T REMOVE THIS LINE\n",
        "\n",
        "# experiment parameters\n",
        "wins = [10, 5, 5, 10] # wins for Decks A, B, C, and D\n",
        "losses = [-25, -5, -5, -25] # losses for Decks A, B, C, and D\n",
        "win_probability = 0.5 # chance of obtaining a win from a deck\n",
        "num_trials = 100\n",
        "\n",
        "# the number of true values we seek to simulate\n",
        "num_true_values = 20\n",
        "\n",
        "# range of simulated and tested values for c\n",
        "min_c = -0.4\n",
        "max_c = 0.4\n",
        "\n",
        "# range of simulated and tested values for W\n",
        "min_W = 0.2\n",
        "max_W = 0.8\n",
        "\n",
        "# range of simulated and tested values for alpha\n",
        "min_alpha = 0.01\n",
        "max_alpha = 0.2\n",
        "\n",
        "# determine range of parameters for fitting\n",
        "c_values = np.linspace(min_c, max_c, 5)\n",
        "W_values = np.linspace(min_W, max_W, 5)\n",
        "alpha_values = np.linspace(min_alpha, max_alpha, 5)\n",
        "\n",
        "# create some arrays for logging\n",
        "true_W_log = np.zeros(num_true_values)\n",
        "true_c_log = np.zeros(num_true_values)\n",
        "true_alpha_log = np.zeros(num_true_values)\n",
        "\n",
        "fitted_W_log = np.zeros(num_true_values)\n",
        "fitted_c_log = np.zeros(num_true_values)\n",
        "fitted_alpha_log = np.zeros(num_true_values)\n",
        "\n",
        "# for each run, we will simulate data with randomly sampled parameters and\n",
        "# then attempt to fit those data.\n",
        "for run in range(num_true_values):\n",
        "  print(\"Completed run \" + str(run) + \" of \" + str(num_true_values))\n",
        "\n",
        "  # randomly sample model parameters from which to sample surrogate data\n",
        "  true_W = random.uniform(min_W, max_W)\n",
        "  true_c = random.uniform(min_c, max_c)\n",
        "  true_alpha = random.uniform(min_alpha, max_alpha)\n",
        "\n",
        "  # log those parameters\n",
        "  true_W_log[run] = true_W\n",
        "  true_c_log[run] = true_c\n",
        "  true_alpha_log[run] = true_alpha\n",
        "\n",
        "  # simulate surrogate data\n",
        "  df = problemset1.simulate_model(num_trials, wins, losses, win_probability,\n",
        "                      true_W, true_alpha, true_c)\n",
        "\n",
        "  # initialize the simulation with a very low LL (indicating bad fit)\n",
        "  # and some initial parameters\n",
        "  best_LL = -10000\n",
        "  best_c = 0\n",
        "  best_W = 0\n",
        "  best_alpha = 0\n",
        "\n",
        "  # loop through each parameter combination (grid search)\n",
        "  for c_idx, c in enumerate(c_values):\n",
        "    for W_idx, W in enumerate(W_values):\n",
        "      for alpha_idx, alpha in enumerate(alpha_values):\n",
        "\n",
        "        # compute log likelihood\n",
        "        LL = problemset1.compute_log_likelihood(df, W, alpha, c)\n",
        "\n",
        "        # store log likelihood if it is higher than the previous one\n",
        "        if LL > best_LL:\n",
        "          best_c = c\n",
        "          best_W = W\n",
        "          best_alpha = alpha\n",
        "          best_LL = LL\n",
        "\n",
        "  # store the parameter combination yielding the highest log likelihood\n",
        "  fitted_W_log[run] = best_W\n",
        "  fitted_c_log[run] = best_c\n",
        "  fitted_alpha_log[run] = best_alpha\n",
        "\n",
        "\n",
        "# Create subplots with 1 row and 2 columns\n",
        "fig, (ax1, ax2, ax3) = plt.subplots(1, 3, figsize=(12, 4))  # Adjust the figsize as needed\n",
        "\n",
        "# Create the first scatter plot on the left\n",
        "ax1.scatter(true_c_log, fitted_c_log, marker='o', color='red')\n",
        "ax1.set_xlabel('True c')\n",
        "ax1.set_ylabel('Fitted c')\n",
        "ax1.set_title('Recovery of the c parameter')\n",
        "\n",
        "# Create the second scatter plot on the right\n",
        "ax2.scatter(true_W_log, fitted_W_log, marker='o', color='red')\n",
        "ax2.set_xlabel('True W')\n",
        "ax2.set_ylabel('Fitted W')\n",
        "ax2.set_title('Recovery of the W parameter')\n",
        "\n",
        "# Create the second scatter plot on the right\n",
        "ax3.scatter(true_alpha_log, fitted_alpha_log, marker='o', color='red')\n",
        "ax3.set_xlabel('True alpha')\n",
        "ax3.set_ylabel('Fitted alpha')\n",
        "ax3.set_title('Recovery of the alpha parameter')\n",
        "\n",
        "# Adjust spacing between subplots\n",
        "plt.tight_layout()\n",
        "\n",
        "# Compute the Pearson correlation coefficient for c\n",
        "correlation_matrix = np.corrcoef(true_c_log, fitted_c_log)\n",
        "# The correlation coefficient is at (0, 1) in the correlation matrix\n",
        "correlation = correlation_matrix[0, 1]\n",
        "print(f\"Pearson correlation coefficient for c: {correlation}\")\n",
        "\n",
        "# Compute the Pearson correlation coefficient for W\n",
        "correlation_matrix = np.corrcoef(true_W_log, fitted_W_log)\n",
        "# The correlation coefficient is at (0, 1) in the correlation matrix\n",
        "correlation = correlation_matrix[0, 1]\n",
        "print(f\"Pearson correlation coefficient for W: {correlation}\")\n",
        "\n",
        "# Compute the Pearson correlation coefficient for alpha\n",
        "correlation_matrix = np.corrcoef(true_alpha_log, fitted_alpha_log)\n",
        "# The correlation coefficient is at (0, 1) in the correlation matrix\n",
        "correlation = correlation_matrix[0, 1]\n",
        "print(f\"Pearson correlation coefficient for alpha: {correlation}\")\n",
        "\n"
      ],
      "metadata": {
        "id": "ooh6yOS1i3xq"
      },
      "execution_count": null,
      "outputs": []
    },
    {
      "cell_type": "markdown",
      "source": [
        "### <font color=\"red\">**Exercise 8 (3 points):**\n",
        "Execute the code block above. </font>\n",
        "\n",
        "<font color=\"red\">**(1)** Based on the results you obtain from the above code block, rank the parameters based on their recoverability, from top (best recoverability) to bottom (worst recoverability). Make sure that ``num_trials = 100``. (1 point) </font>\n",
        "\n",
        "<font color=\"red\">**(2)** In the code block above, change ``num_trials = 100`` to ``num_trials = 200``. What do you observe (1 point) and what does this tell you about the choice of the optimal number of trials for the experiment? (1 point)</font>\n",
        "\n",
        "<font color=\"red\">Enter your answers in the text box below.</font>"
      ],
      "metadata": {
        "id": "wKhQQGpM5e7e"
      }
    },
    {
      "cell_type": "markdown",
      "source": [
        "YOUR ANSWER GOES HERE"
      ],
      "metadata": {
        "id": "racU6zo_P7Sk"
      }
    },
    {
      "cell_type": "markdown",
      "source": [
        "### Fitting the model to your behavior\n",
        "\n",
        "After learning about your ability to fit the model, the moment has finally come: You will get to fit the model to you own behavior."
      ],
      "metadata": {
        "id": "4--Utgw_rK0n"
      }
    },
    {
      "cell_type": "markdown",
      "source": [
        "### <font color=\"red\">**Exercise 9 (1 bonus point):**\n",
        "Complete the code block below (see \"``YOUR CODE ANSWER GOES HERE``) to the model to your own behavior. You may draw from the code examples from the previous exercises. Given what you have learned from the previous exercises, how do you interpret these results (see \"``YOUR TEXT ANSWER GOES HERE``)?</font>\n",
        "\n",
        "**Note:** *The bonus point is only given if you manage to correctly fit the model to your data while offering a valid interpretation of the results.*"
      ],
      "metadata": {
        "id": "DWqYwdCkQ1kD"
      }
    },
    {
      "cell_type": "code",
      "source": [
        "# load data\n",
        "data = pd.read_csv(io.BytesIO(uploaded['experiment_data.csv']))\n",
        "\n",
        "# range of simulated and tested values for c\n",
        "min_c = -1\n",
        "max_c = 1\n",
        "\n",
        "# range of simulated and tested values for W\n",
        "min_W = 0.1\n",
        "max_W = 0.9\n",
        "\n",
        "# range of simulated and tested values for alpha\n",
        "min_alpha = 0.01\n",
        "max_alpha = 0.1\n",
        "\n",
        "# parameter search space resolution\n",
        "resolution = 20\n",
        "\n",
        "# generate parameter search space\n",
        "c_values = np.linspace(min_c, max_c, resolution)\n",
        "W_values = np.linspace(min_W, max_W, resolution)\n",
        "alpha_values = np.linspace(min_alpha, max_alpha, resolution)\n",
        "\n",
        "# initialize log-likelihood and fitted parameters\n",
        "best_LL = -10000\n",
        "best_c = 0\n",
        "best_W = 0\n",
        "best_alpha = 0\n",
        "\n",
        "# YOUR CODE ANSWER GOES HERE\n",
        "\n",
        "print(\"Fitted c: \" + str(best_c))\n",
        "print(\"Fitted W: \" + str(best_W))\n",
        "print(\"Fitted alpha: \" + str(best_alpha))\n",
        "\n"
      ],
      "metadata": {
        "id": "nRtAhaBsrNkq"
      },
      "execution_count": null,
      "outputs": []
    },
    {
      "cell_type": "markdown",
      "source": [
        "YOUR TEXT ANSWER GOES HERE"
      ],
      "metadata": {
        "id": "bD4doXZKWzSd"
      }
    },
    {
      "cell_type": "markdown",
      "source": [
        "If you are using grid search, you may execute the following code block to check your solution (the execution may take a while)."
      ],
      "metadata": {
        "id": "8mV7Pa_hipf-"
      }
    },
    {
      "cell_type": "code",
      "source": [
        "problemset1.test_parameter_fit(df, c_values, W_values, alpha_values, best_LL, best_c, best_W, best_alpha)"
      ],
      "metadata": {
        "id": "bmv2wuVYixES"
      },
      "execution_count": null,
      "outputs": []
    }
  ]
}