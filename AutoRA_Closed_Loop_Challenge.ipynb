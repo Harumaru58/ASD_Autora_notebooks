{
  "cells": [
    {
      "cell_type": "markdown",
      "metadata": {
        "id": "wmZ1RNydtCA1"
      },
      "source": [
        "# Introduction\n",
        "\n",
        "In this challenge, you are tasked to document your closed-loop case study.\n",
        "\n",
        "\n",
        "\n",
        "\n",
        "\n",
        "\n"
      ]
    },
    {
      "cell_type": "markdown",
      "metadata": {
        "id": "h--sPj7T3Nqc"
      },
      "source": [
        "## Grading\n",
        "\n",
        "- Due date: **August 30**\n",
        "- Submission: Through ``Stud.IP -> Tasks -> Closed-Loop Challenge``\n",
        "\n",
        "The grading is independent of the outcome of the benchmarking challenge. In total, you can obtain **30 points**, which are detailed in the graded sections below.\n",
        "\n",
        "Teams must submit a link to this notebook, along with a link to their repository on the respective Stud.IP task. In addition, teams must  outline the contributions of each team member in their submission on ``Stud.IP -> Tasks -> Closed-Loop Challenge``."
      ]
    },
    {
      "cell_type": "markdown",
      "source": [
        "# Research Question (2 points)\n",
        "\n",
        "Please outline in the text block below the overarching research question you are addressing with your closed-loop study. What aspects of human cognition are you studying?"
      ],
      "metadata": {
        "id": "LRsY_blPe6ho"
      }
    },
    {
      "cell_type": "markdown",
      "source": [
        "*YOUR ANSWER GOES HERE*"
      ],
      "metadata": {
        "id": "J7o1yT6wfLb_"
      }
    },
    {
      "cell_type": "markdown",
      "source": [
        "# Paradigm (2 points)\n",
        "\n",
        "Provide a brief description of the overall paradigm (psychphysics paradigm, multi-arm bandit paradigm, task switching paradigm, etc.) you are using. (1 point)"
      ],
      "metadata": {
        "id": "vWHT1l0YfRQg"
      }
    },
    {
      "cell_type": "markdown",
      "source": [
        "*YOUR ANSWER GOES HERE*"
      ],
      "metadata": {
        "id": "R56qismwfp1R"
      }
    },
    {
      "cell_type": "markdown",
      "source": [
        "Outline below why you think the paradigm is well suited to address the research question. (1 point)"
      ],
      "metadata": {
        "id": "M74ySQWfflHu"
      }
    },
    {
      "cell_type": "markdown",
      "source": [
        "*YOUR ANSWER GOES HERE*"
      ],
      "metadata": {
        "id": "IjcyprnWfqw1"
      }
    },
    {
      "cell_type": "markdown",
      "source": [
        "# Experiment Variables (4 points)"
      ],
      "metadata": {
        "id": "r2FzeegnfwEh"
      }
    },
    {
      "cell_type": "markdown",
      "source": [
        "Deescribe the **independent** variables of your experiment. What do these variables represent, which values can they take? (2 points)"
      ],
      "metadata": {
        "id": "RKcQSyElfy-q"
      }
    },
    {
      "cell_type": "markdown",
      "source": [
        "*YOUR ANSWER GOES HERE*"
      ],
      "metadata": {
        "id": "zKMrWfdNgARa"
      }
    },
    {
      "cell_type": "markdown",
      "source": [
        "Deescribe the **dependent** variables of your experiment. What do these variables represent, which values can they take? (2 points)"
      ],
      "metadata": {
        "id": "BmKIhVvdgB0H"
      }
    },
    {
      "cell_type": "markdown",
      "source": [
        "*YOUR ANSWER GOES HERE*"
      ],
      "metadata": {
        "id": "tCf-979MgDhW"
      }
    },
    {
      "cell_type": "markdown",
      "source": [
        "# Counterbalancing (4 points)"
      ],
      "metadata": {
        "id": "8EYNBgKvgG1F"
      }
    },
    {
      "cell_type": "markdown",
      "source": [
        "Describe how you counterbalanced the independent variables of the experiment into an experimental sequence. Make sure to mention all constraints that were used to generate the experiment sequence (2 points)."
      ],
      "metadata": {
        "id": "TT4AXC-RgKbr"
      }
    },
    {
      "cell_type": "markdown",
      "source": [
        "*YOUR ANSWER GOES HERE*"
      ],
      "metadata": {
        "id": "2FDHMc4VgRZl"
      }
    },
    {
      "cell_type": "markdown",
      "source": [
        "Please paste the code you used for counterbalancing (e.g., SweetPea code) here. You don't have to execute this code here, so you can omit import statements. (2 points)"
      ],
      "metadata": {
        "id": "7Ow7hzPJgR7Z"
      }
    },
    {
      "cell_type": "code",
      "source": [
        "# YOUR CODE GOES HERE"
      ],
      "metadata": {
        "id": "pKDb1FNtgmKO"
      },
      "execution_count": null,
      "outputs": []
    },
    {
      "cell_type": "markdown",
      "source": [
        "# Experiment Implementation (4 points)"
      ],
      "metadata": {
        "id": "C13cyQxLgz8H"
      }
    },
    {
      "cell_type": "markdown",
      "source": [
        "Describe the sequence of events in your experiment. Make sure to describe the structure of the experiment (e.g., how many and which blocks were used) and make sure to describe the sequence of events within each trial (along with the timings of those events). In addition, you may describe all stimuli used in the experiment. (2 points)"
      ],
      "metadata": {
        "id": "V2TYe8SRg2fs"
      }
    },
    {
      "cell_type": "markdown",
      "source": [
        "*YOUR ANSWER GOES HERE*"
      ],
      "metadata": {
        "id": "FK4BbhkhhI95"
      }
    },
    {
      "cell_type": "markdown",
      "source": [
        "Please paste (SweetBean) code you used for creating your experiment. If you didn't use SweetBean, you can paste the JavaScript code here. (2 points)"
      ],
      "metadata": {
        "id": "ROUEPPnXhMb5"
      }
    },
    {
      "cell_type": "code",
      "source": [
        "# YOUR CODE GOES HERE"
      ],
      "metadata": {
        "id": "4WosFnF2hKNL"
      },
      "execution_count": null,
      "outputs": []
    },
    {
      "cell_type": "markdown",
      "source": [
        "# Preprocessing (2 points)"
      ],
      "metadata": {
        "id": "-JK9omTYjBpu"
      }
    },
    {
      "cell_type": "markdown",
      "source": [
        "Describe how you are pre-processing the raw data from the experiment for further analysis. (1 point)"
      ],
      "metadata": {
        "id": "kvpxGgUPjDHJ"
      }
    },
    {
      "cell_type": "markdown",
      "source": [
        "*YOUR ANSWER GOES HERE*"
      ],
      "metadata": {
        "id": "Q6rPiYJ-jHMH"
      }
    },
    {
      "cell_type": "markdown",
      "source": [
        "Past the relevant preprocessing code below. (1 point)"
      ],
      "metadata": {
        "id": "Fyv4IG5VjDxn"
      }
    },
    {
      "cell_type": "code",
      "source": [
        "# YOUR CODE GOES HERE"
      ],
      "metadata": {
        "id": "3yRejkG1jHl8"
      },
      "execution_count": null,
      "outputs": []
    },
    {
      "cell_type": "markdown",
      "source": [
        "# Model Discovery Method (3 points)\n",
        "\n",
        "Describe the model discovery method you are using here. How did you parameterize it and why? (2 points)"
      ],
      "metadata": {
        "id": "7AglsfYgjI-k"
      }
    },
    {
      "cell_type": "markdown",
      "source": [
        "*YOUR ANSWER GOES HERE*"
      ],
      "metadata": {
        "id": "Dh4xlqaqjhkx"
      }
    },
    {
      "cell_type": "markdown",
      "source": [
        "Paste the code that instantiates and parameterizes the model discovery method (this may be a single line defining an ``sklearn`` regressor). (1 point)"
      ],
      "metadata": {
        "id": "IjS6RR86jVB6"
      }
    },
    {
      "cell_type": "code",
      "source": [
        "# YOUR CODE GOES HERE"
      ],
      "metadata": {
        "id": "-cX4vXMMjTU6"
      },
      "execution_count": null,
      "outputs": []
    },
    {
      "cell_type": "markdown",
      "source": [
        "# Experimental Sampling Method (4 points)\n",
        "\n",
        "Describe the experimental sampling method you are using here. What is the design space you are searching over? What are the inputs to the experimental sampling method? And is your method selecting the new experiment condition? (3 points)"
      ],
      "metadata": {
        "id": "K3gPA1wKjl3O"
      }
    },
    {
      "cell_type": "markdown",
      "source": [
        "*YOUR ANSWER GOES HERE*"
      ],
      "metadata": {
        "id": "_bI-M276kJSG"
      }
    },
    {
      "cell_type": "markdown",
      "source": [
        "Paste the function implementing your experimental sampling method. If you are using an off-the-shelf AutoRA experimentalist, you may instead just paste the declaration of the experimentalist. (1 point)"
      ],
      "metadata": {
        "id": "Ql_p4oOFj8B6"
      }
    },
    {
      "cell_type": "code",
      "source": [
        "# YOUR CODE GOES HERE"
      ],
      "metadata": {
        "id": "Kl2jUvsMj7AZ"
      },
      "execution_count": null,
      "outputs": []
    },
    {
      "cell_type": "markdown",
      "source": [
        "# AutoRA Workflow (5 points)"
      ],
      "metadata": {
        "id": "Eu-4RWC0kOlg"
      }
    },
    {
      "cell_type": "markdown",
      "source": [
        "Describe the flow of events in your closed-loop discovery loop. Make sure to explain, for each AutoRA component you are using, which inputs are provided to the component, and what outputs the component is producing. Make also sure to outline the sequence of events executed in the AutoRA loop. (3 points)"
      ],
      "metadata": {
        "id": "lV1GshD7kQrX"
      }
    },
    {
      "cell_type": "markdown",
      "source": [
        "*YOUR ANSWER GOES HERE*"
      ],
      "metadata": {
        "id": "lSd6pvi2kiWQ"
      }
    },
    {
      "cell_type": "markdown",
      "source": [
        "Paste the code implementing the AutoRA workflow below. (2 points)"
      ],
      "metadata": {
        "id": "pAEk9GtekkY7"
      }
    },
    {
      "cell_type": "code",
      "source": [
        "# YOUR CODE GOES HERE"
      ],
      "metadata": {
        "id": "hn_zO8m1koea"
      },
      "execution_count": null,
      "outputs": []
    },
    {
      "cell_type": "markdown",
      "source": [
        "# Results (2 bonus points)"
      ],
      "metadata": {
        "id": "8_skM48Zky-T"
      }
    },
    {
      "cell_type": "markdown",
      "source": [
        "You may describe any results from your scientific discovery process here."
      ],
      "metadata": {
        "id": "QVVw5ZGKk2BL"
      }
    }
  ],
  "metadata": {
    "colab": {
      "provenance": []
    },
    "kernelspec": {
      "display_name": "Python 3",
      "name": "python3"
    },
    "language_info": {
      "name": "python"
    }
  },
  "nbformat": 4,
  "nbformat_minor": 0
}