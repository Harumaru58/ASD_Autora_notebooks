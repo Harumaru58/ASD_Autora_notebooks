{
  "nbformat": 4,
  "nbformat_minor": 0,
  "metadata": {
    "colab": {
      "provenance": []
    },
    "kernelspec": {
      "name": "python3",
      "display_name": "Python 3"
    },
    "language_info": {
      "name": "python"
    }
  },
  "cells": [
    {
      "cell_type": "code",
      "execution_count": null,
      "metadata": {
        "id": "scDKZu0Bldlf"
      },
      "outputs": [],
      "source": []
    },
    {
      "cell_type": "markdown",
      "source": [
        "# Installation"
      ],
      "metadata": {
        "id": "an-QPQhcljHa"
      }
    },
    {
      "cell_type": "code",
      "source": [
        "%%capture\n",
        "!pip install autora\n",
        "!pip install autora[all-theorists]"
      ],
      "metadata": {
        "id": "8nzJmQwQlkh_"
      },
      "execution_count": null,
      "outputs": []
    },
    {
      "cell_type": "markdown",
      "source": [
        "# Imports"
      ],
      "metadata": {
        "id": "dLi8_Zt-l_oz"
      }
    },
    {
      "cell_type": "code",
      "source": [
        "# autora state\n",
        "from autora.state import StandardState, on_state, Delta\n",
        "\n",
        "# experiment_runner\n",
        "from autora.experiment_runner.synthetic.psychophysics.weber_fechner_law import weber_fechner_law\n",
        "\n",
        "# experimentalist\n",
        "from autora.experimentalist.grid import grid_pool\n",
        "from autora.experimentalist.random import random_pool, random_sample\n",
        "\n",
        "# theorist\n",
        "from autora.theorist.bms import BMSRegressor\n"
      ],
      "metadata": {
        "id": "Ty6AuO0iloHs"
      },
      "execution_count": null,
      "outputs": []
    },
    {
      "cell_type": "markdown",
      "source": [
        "# Creating a State\n",
        "\n",
        "To create the `state`, we need variable definitions. In this case, we get them from the runner:"
      ],
      "metadata": {
        "id": "w_6JhEzRnjOi"
      }
    },
    {
      "cell_type": "code",
      "source": [
        "experiment_runner = weber_fechner_law()\n",
        "experiment_runner.variables"
      ],
      "metadata": {
        "colab": {
          "base_uri": "https://localhost:8080/"
        },
        "id": "sp1LqHhsmGqo",
        "outputId": "106e7209-9590-47fb-ffa7-b062c97e939f"
      },
      "execution_count": null,
      "outputs": [
        {
          "output_type": "execute_result",
          "data": {
            "text/plain": [
              "VariableCollection(independent_variables=[IV(name='S1', value_range=(0.01, 5.0), allowed_values=array([0.01      , 0.06040404, 0.11080808, 0.16121212, 0.21161616,\n",
              "       0.2620202 , 0.31242424, 0.36282828, 0.41323232, 0.46363636,\n",
              "       0.5140404 , 0.56444444, 0.61484848, 0.66525253, 0.71565657,\n",
              "       0.76606061, 0.81646465, 0.86686869, 0.91727273, 0.96767677,\n",
              "       1.01808081, 1.06848485, 1.11888889, 1.16929293, 1.21969697,\n",
              "       1.27010101, 1.32050505, 1.37090909, 1.42131313, 1.47171717,\n",
              "       1.52212121, 1.57252525, 1.62292929, 1.67333333, 1.72373737,\n",
              "       1.77414141, 1.82454545, 1.87494949, 1.92535354, 1.97575758,\n",
              "       2.02616162, 2.07656566, 2.1269697 , 2.17737374, 2.22777778,\n",
              "       2.27818182, 2.32858586, 2.3789899 , 2.42939394, 2.47979798,\n",
              "       2.53020202, 2.58060606, 2.6310101 , 2.68141414, 2.73181818,\n",
              "       2.78222222, 2.83262626, 2.8830303 , 2.93343434, 2.98383838,\n",
              "       3.03424242, 3.08464646, 3.13505051, 3.18545455, 3.23585859,\n",
              "       3.28626263, 3.33666667, 3.38707071, 3.43747475, 3.48787879,\n",
              "       3.53828283, 3.58868687, 3.63909091, 3.68949495, 3.73989899,\n",
              "       3.79030303, 3.84070707, 3.89111111, 3.94151515, 3.99191919,\n",
              "       4.04232323, 4.09272727, 4.14313131, 4.19353535, 4.24393939,\n",
              "       4.29434343, 4.34474747, 4.39515152, 4.44555556, 4.4959596 ,\n",
              "       4.54636364, 4.59676768, 4.64717172, 4.69757576, 4.7479798 ,\n",
              "       4.79838384, 4.84878788, 4.89919192, 4.94959596, 5.        ]), units='intensity', type=<ValueType.REAL: 'real'>, variable_label='Stimulus 1 Intensity', rescale=1, is_covariate=False), IV(name='S2', value_range=(0.01, 5.0), allowed_values=array([0.01      , 0.06040404, 0.11080808, 0.16121212, 0.21161616,\n",
              "       0.2620202 , 0.31242424, 0.36282828, 0.41323232, 0.46363636,\n",
              "       0.5140404 , 0.56444444, 0.61484848, 0.66525253, 0.71565657,\n",
              "       0.76606061, 0.81646465, 0.86686869, 0.91727273, 0.96767677,\n",
              "       1.01808081, 1.06848485, 1.11888889, 1.16929293, 1.21969697,\n",
              "       1.27010101, 1.32050505, 1.37090909, 1.42131313, 1.47171717,\n",
              "       1.52212121, 1.57252525, 1.62292929, 1.67333333, 1.72373737,\n",
              "       1.77414141, 1.82454545, 1.87494949, 1.92535354, 1.97575758,\n",
              "       2.02616162, 2.07656566, 2.1269697 , 2.17737374, 2.22777778,\n",
              "       2.27818182, 2.32858586, 2.3789899 , 2.42939394, 2.47979798,\n",
              "       2.53020202, 2.58060606, 2.6310101 , 2.68141414, 2.73181818,\n",
              "       2.78222222, 2.83262626, 2.8830303 , 2.93343434, 2.98383838,\n",
              "       3.03424242, 3.08464646, 3.13505051, 3.18545455, 3.23585859,\n",
              "       3.28626263, 3.33666667, 3.38707071, 3.43747475, 3.48787879,\n",
              "       3.53828283, 3.58868687, 3.63909091, 3.68949495, 3.73989899,\n",
              "       3.79030303, 3.84070707, 3.89111111, 3.94151515, 3.99191919,\n",
              "       4.04232323, 4.09272727, 4.14313131, 4.19353535, 4.24393939,\n",
              "       4.29434343, 4.34474747, 4.39515152, 4.44555556, 4.4959596 ,\n",
              "       4.54636364, 4.59676768, 4.64717172, 4.69757576, 4.7479798 ,\n",
              "       4.79838384, 4.84878788, 4.89919192, 4.94959596, 5.        ]), units='intensity', type=<ValueType.REAL: 'real'>, variable_label='Stimulus 2 Intensity', rescale=1, is_covariate=False)], dependent_variables=[DV(name='difference_detected', value_range=(0, 5.0), allowed_values=None, units='sensation', type=<ValueType.REAL: 'real'>, variable_label='Sensation', rescale=1, is_covariate=False)], covariates=[])"
            ]
          },
          "metadata": {},
          "execution_count": 31
        }
      ]
    },
    {
      "cell_type": "code",
      "source": [
        "state = StandardState(variables=experiment_runner.variables)\n",
        "state"
      ],
      "metadata": {
        "colab": {
          "base_uri": "https://localhost:8080/"
        },
        "id": "2Ab2oHWinUNM",
        "outputId": "addcd10d-b0c3-4472-9873-72e9972976c3"
      },
      "execution_count": null,
      "outputs": [
        {
          "output_type": "execute_result",
          "data": {
            "text/plain": [
              "StandardState(variables=VariableCollection(independent_variables=[IV(name='S1', value_range=(0.01, 5.0), allowed_values=array([0.01      , 0.06040404, 0.11080808, 0.16121212, 0.21161616,\n",
              "       0.2620202 , 0.31242424, 0.36282828, 0.41323232, 0.46363636,\n",
              "       0.5140404 , 0.56444444, 0.61484848, 0.66525253, 0.71565657,\n",
              "       0.76606061, 0.81646465, 0.86686869, 0.91727273, 0.96767677,\n",
              "       1.01808081, 1.06848485, 1.11888889, 1.16929293, 1.21969697,\n",
              "       1.27010101, 1.32050505, 1.37090909, 1.42131313, 1.47171717,\n",
              "       1.52212121, 1.57252525, 1.62292929, 1.67333333, 1.72373737,\n",
              "       1.77414141, 1.82454545, 1.87494949, 1.92535354, 1.97575758,\n",
              "       2.02616162, 2.07656566, 2.1269697 , 2.17737374, 2.22777778,\n",
              "       2.27818182, 2.32858586, 2.3789899 , 2.42939394, 2.47979798,\n",
              "       2.53020202, 2.58060606, 2.6310101 , 2.68141414, 2.73181818,\n",
              "       2.78222222, 2.83262626, 2.8830303 , 2.93343434, 2.98383838,\n",
              "       3.03424242, 3.08464646, 3.13505051, 3.18545455, 3.23585859,\n",
              "       3.28626263, 3.33666667, 3.38707071, 3.43747475, 3.48787879,\n",
              "       3.53828283, 3.58868687, 3.63909091, 3.68949495, 3.73989899,\n",
              "       3.79030303, 3.84070707, 3.89111111, 3.94151515, 3.99191919,\n",
              "       4.04232323, 4.09272727, 4.14313131, 4.19353535, 4.24393939,\n",
              "       4.29434343, 4.34474747, 4.39515152, 4.44555556, 4.4959596 ,\n",
              "       4.54636364, 4.59676768, 4.64717172, 4.69757576, 4.7479798 ,\n",
              "       4.79838384, 4.84878788, 4.89919192, 4.94959596, 5.        ]), units='intensity', type=<ValueType.REAL: 'real'>, variable_label='Stimulus 1 Intensity', rescale=1, is_covariate=False), IV(name='S2', value_range=(0.01, 5.0), allowed_values=array([0.01      , 0.06040404, 0.11080808, 0.16121212, 0.21161616,\n",
              "       0.2620202 , 0.31242424, 0.36282828, 0.41323232, 0.46363636,\n",
              "       0.5140404 , 0.56444444, 0.61484848, 0.66525253, 0.71565657,\n",
              "       0.76606061, 0.81646465, 0.86686869, 0.91727273, 0.96767677,\n",
              "       1.01808081, 1.06848485, 1.11888889, 1.16929293, 1.21969697,\n",
              "       1.27010101, 1.32050505, 1.37090909, 1.42131313, 1.47171717,\n",
              "       1.52212121, 1.57252525, 1.62292929, 1.67333333, 1.72373737,\n",
              "       1.77414141, 1.82454545, 1.87494949, 1.92535354, 1.97575758,\n",
              "       2.02616162, 2.07656566, 2.1269697 , 2.17737374, 2.22777778,\n",
              "       2.27818182, 2.32858586, 2.3789899 , 2.42939394, 2.47979798,\n",
              "       2.53020202, 2.58060606, 2.6310101 , 2.68141414, 2.73181818,\n",
              "       2.78222222, 2.83262626, 2.8830303 , 2.93343434, 2.98383838,\n",
              "       3.03424242, 3.08464646, 3.13505051, 3.18545455, 3.23585859,\n",
              "       3.28626263, 3.33666667, 3.38707071, 3.43747475, 3.48787879,\n",
              "       3.53828283, 3.58868687, 3.63909091, 3.68949495, 3.73989899,\n",
              "       3.79030303, 3.84070707, 3.89111111, 3.94151515, 3.99191919,\n",
              "       4.04232323, 4.09272727, 4.14313131, 4.19353535, 4.24393939,\n",
              "       4.29434343, 4.34474747, 4.39515152, 4.44555556, 4.4959596 ,\n",
              "       4.54636364, 4.59676768, 4.64717172, 4.69757576, 4.7479798 ,\n",
              "       4.79838384, 4.84878788, 4.89919192, 4.94959596, 5.        ]), units='intensity', type=<ValueType.REAL: 'real'>, variable_label='Stimulus 2 Intensity', rescale=1, is_covariate=False)], dependent_variables=[DV(name='difference_detected', value_range=(0, 5.0), allowed_values=None, units='sensation', type=<ValueType.REAL: 'real'>, variable_label='Sensation', rescale=1, is_covariate=False)], covariates=[]), conditions=None, experiment_data=None, models=[])"
            ]
          },
          "metadata": {},
          "execution_count": 32
        }
      ]
    },
    {
      "cell_type": "markdown",
      "source": [
        "# Running Experimentalists on the State\n",
        "\n",
        "Experimentalists are AutoRA components that create/sample conditions.\n",
        "\n",
        "With the variables defined, we can create a pool."
      ],
      "metadata": {
        "id": "ikm7DkT4ntDA"
      }
    },
    {
      "cell_type": "code",
      "source": [
        "# the state.conditions are empty for now:\n",
        "state.conditions"
      ],
      "metadata": {
        "id": "DwAG35eYoAls"
      },
      "execution_count": null,
      "outputs": []
    },
    {
      "cell_type": "markdown",
      "source": [
        "let's create a function that runs on the `state`. The most general way to do this, is to use `on_state` as a wrepper and return a `Delta` object:"
      ],
      "metadata": {
        "id": "UMz4uTFgoS-X"
      }
    },
    {
      "cell_type": "code",
      "source": [
        "@on_state()\n",
        "def grid_pool_on_state(variables):\n",
        "  return Delta(conditions=grid_pool(variables))"
      ],
      "metadata": {
        "id": "At2xPUTiogSy"
      },
      "execution_count": null,
      "outputs": []
    },
    {
      "cell_type": "markdown",
      "source": [
        "The most important thing to keep in mind, when using `on_state` and `Delta` is, that the keyword arguments of the wrapped function and the `Delta` are not arbitrary. They refer to fields of the `state`.\n",
        "\n",
        "In this case, `grid_pool_on_state` will \"grab\" the `variables`-field from the state and output into the `conditions`-field of the `state`."
      ],
      "metadata": {
        "id": "j_MFMLV4pBIR"
      }
    },
    {
      "cell_type": "markdown",
      "source": [
        "After creating a wrapped function we can run it on the state:"
      ],
      "metadata": {
        "id": "6mDhjGURp6RA"
      }
    },
    {
      "cell_type": "code",
      "source": [
        "state = grid_pool_on_state(state)\n",
        "# the state.conditions are now filled:\n",
        "state.conditions"
      ],
      "metadata": {
        "colab": {
          "base_uri": "https://localhost:8080/",
          "height": 424
        },
        "id": "C2fltTN9oT3X",
        "outputId": "4cddbcd3-9a17-4350-ac4e-0d84558a3a5c"
      },
      "execution_count": null,
      "outputs": [
        {
          "output_type": "execute_result",
          "data": {
            "text/plain": [
              "        S1        S2\n",
              "0     0.01  0.010000\n",
              "1     0.01  0.060404\n",
              "2     0.01  0.110808\n",
              "3     0.01  0.161212\n",
              "4     0.01  0.211616\n",
              "...    ...       ...\n",
              "9995  5.00  4.798384\n",
              "9996  5.00  4.848788\n",
              "9997  5.00  4.899192\n",
              "9998  5.00  4.949596\n",
              "9999  5.00  5.000000\n",
              "\n",
              "[10000 rows x 2 columns]"
            ],
            "text/html": [
              "\n",
              "  <div id=\"df-488a906e-db03-456d-a0ed-b25d4bd8e6c7\" class=\"colab-df-container\">\n",
              "    <div>\n",
              "<style scoped>\n",
              "    .dataframe tbody tr th:only-of-type {\n",
              "        vertical-align: middle;\n",
              "    }\n",
              "\n",
              "    .dataframe tbody tr th {\n",
              "        vertical-align: top;\n",
              "    }\n",
              "\n",
              "    .dataframe thead th {\n",
              "        text-align: right;\n",
              "    }\n",
              "</style>\n",
              "<table border=\"1\" class=\"dataframe\">\n",
              "  <thead>\n",
              "    <tr style=\"text-align: right;\">\n",
              "      <th></th>\n",
              "      <th>S1</th>\n",
              "      <th>S2</th>\n",
              "    </tr>\n",
              "  </thead>\n",
              "  <tbody>\n",
              "    <tr>\n",
              "      <th>0</th>\n",
              "      <td>0.01</td>\n",
              "      <td>0.010000</td>\n",
              "    </tr>\n",
              "    <tr>\n",
              "      <th>1</th>\n",
              "      <td>0.01</td>\n",
              "      <td>0.060404</td>\n",
              "    </tr>\n",
              "    <tr>\n",
              "      <th>2</th>\n",
              "      <td>0.01</td>\n",
              "      <td>0.110808</td>\n",
              "    </tr>\n",
              "    <tr>\n",
              "      <th>3</th>\n",
              "      <td>0.01</td>\n",
              "      <td>0.161212</td>\n",
              "    </tr>\n",
              "    <tr>\n",
              "      <th>4</th>\n",
              "      <td>0.01</td>\n",
              "      <td>0.211616</td>\n",
              "    </tr>\n",
              "    <tr>\n",
              "      <th>...</th>\n",
              "      <td>...</td>\n",
              "      <td>...</td>\n",
              "    </tr>\n",
              "    <tr>\n",
              "      <th>9995</th>\n",
              "      <td>5.00</td>\n",
              "      <td>4.798384</td>\n",
              "    </tr>\n",
              "    <tr>\n",
              "      <th>9996</th>\n",
              "      <td>5.00</td>\n",
              "      <td>4.848788</td>\n",
              "    </tr>\n",
              "    <tr>\n",
              "      <th>9997</th>\n",
              "      <td>5.00</td>\n",
              "      <td>4.899192</td>\n",
              "    </tr>\n",
              "    <tr>\n",
              "      <th>9998</th>\n",
              "      <td>5.00</td>\n",
              "      <td>4.949596</td>\n",
              "    </tr>\n",
              "    <tr>\n",
              "      <th>9999</th>\n",
              "      <td>5.00</td>\n",
              "      <td>5.000000</td>\n",
              "    </tr>\n",
              "  </tbody>\n",
              "</table>\n",
              "<p>10000 rows × 2 columns</p>\n",
              "</div>\n",
              "    <div class=\"colab-df-buttons\">\n",
              "\n",
              "  <div class=\"colab-df-container\">\n",
              "    <button class=\"colab-df-convert\" onclick=\"convertToInteractive('df-488a906e-db03-456d-a0ed-b25d4bd8e6c7')\"\n",
              "            title=\"Convert this dataframe to an interactive table.\"\n",
              "            style=\"display:none;\">\n",
              "\n",
              "  <svg xmlns=\"http://www.w3.org/2000/svg\" height=\"24px\" viewBox=\"0 -960 960 960\">\n",
              "    <path d=\"M120-120v-720h720v720H120Zm60-500h600v-160H180v160Zm220 220h160v-160H400v160Zm0 220h160v-160H400v160ZM180-400h160v-160H180v160Zm440 0h160v-160H620v160ZM180-180h160v-160H180v160Zm440 0h160v-160H620v160Z\"/>\n",
              "  </svg>\n",
              "    </button>\n",
              "\n",
              "  <style>\n",
              "    .colab-df-container {\n",
              "      display:flex;\n",
              "      gap: 12px;\n",
              "    }\n",
              "\n",
              "    .colab-df-convert {\n",
              "      background-color: #E8F0FE;\n",
              "      border: none;\n",
              "      border-radius: 50%;\n",
              "      cursor: pointer;\n",
              "      display: none;\n",
              "      fill: #1967D2;\n",
              "      height: 32px;\n",
              "      padding: 0 0 0 0;\n",
              "      width: 32px;\n",
              "    }\n",
              "\n",
              "    .colab-df-convert:hover {\n",
              "      background-color: #E2EBFA;\n",
              "      box-shadow: 0px 1px 2px rgba(60, 64, 67, 0.3), 0px 1px 3px 1px rgba(60, 64, 67, 0.15);\n",
              "      fill: #174EA6;\n",
              "    }\n",
              "\n",
              "    .colab-df-buttons div {\n",
              "      margin-bottom: 4px;\n",
              "    }\n",
              "\n",
              "    [theme=dark] .colab-df-convert {\n",
              "      background-color: #3B4455;\n",
              "      fill: #D2E3FC;\n",
              "    }\n",
              "\n",
              "    [theme=dark] .colab-df-convert:hover {\n",
              "      background-color: #434B5C;\n",
              "      box-shadow: 0px 1px 3px 1px rgba(0, 0, 0, 0.15);\n",
              "      filter: drop-shadow(0px 1px 2px rgba(0, 0, 0, 0.3));\n",
              "      fill: #FFFFFF;\n",
              "    }\n",
              "  </style>\n",
              "\n",
              "    <script>\n",
              "      const buttonEl =\n",
              "        document.querySelector('#df-488a906e-db03-456d-a0ed-b25d4bd8e6c7 button.colab-df-convert');\n",
              "      buttonEl.style.display =\n",
              "        google.colab.kernel.accessAllowed ? 'block' : 'none';\n",
              "\n",
              "      async function convertToInteractive(key) {\n",
              "        const element = document.querySelector('#df-488a906e-db03-456d-a0ed-b25d4bd8e6c7');\n",
              "        const dataTable =\n",
              "          await google.colab.kernel.invokeFunction('convertToInteractive',\n",
              "                                                    [key], {});\n",
              "        if (!dataTable) return;\n",
              "\n",
              "        const docLinkHtml = 'Like what you see? Visit the ' +\n",
              "          '<a target=\"_blank\" href=https://colab.research.google.com/notebooks/data_table.ipynb>data table notebook</a>'\n",
              "          + ' to learn more about interactive tables.';\n",
              "        element.innerHTML = '';\n",
              "        dataTable['output_type'] = 'display_data';\n",
              "        await google.colab.output.renderOutput(dataTable, element);\n",
              "        const docLink = document.createElement('div');\n",
              "        docLink.innerHTML = docLinkHtml;\n",
              "        element.appendChild(docLink);\n",
              "      }\n",
              "    </script>\n",
              "  </div>\n",
              "\n",
              "\n",
              "<div id=\"df-6cc7332e-9838-44e3-b24d-557d5d03148e\">\n",
              "  <button class=\"colab-df-quickchart\" onclick=\"quickchart('df-6cc7332e-9838-44e3-b24d-557d5d03148e')\"\n",
              "            title=\"Suggest charts\"\n",
              "            style=\"display:none;\">\n",
              "\n",
              "<svg xmlns=\"http://www.w3.org/2000/svg\" height=\"24px\"viewBox=\"0 0 24 24\"\n",
              "     width=\"24px\">\n",
              "    <g>\n",
              "        <path d=\"M19 3H5c-1.1 0-2 .9-2 2v14c0 1.1.9 2 2 2h14c1.1 0 2-.9 2-2V5c0-1.1-.9-2-2-2zM9 17H7v-7h2v7zm4 0h-2V7h2v10zm4 0h-2v-4h2v4z\"/>\n",
              "    </g>\n",
              "</svg>\n",
              "  </button>\n",
              "\n",
              "<style>\n",
              "  .colab-df-quickchart {\n",
              "      --bg-color: #E8F0FE;\n",
              "      --fill-color: #1967D2;\n",
              "      --hover-bg-color: #E2EBFA;\n",
              "      --hover-fill-color: #174EA6;\n",
              "      --disabled-fill-color: #AAA;\n",
              "      --disabled-bg-color: #DDD;\n",
              "  }\n",
              "\n",
              "  [theme=dark] .colab-df-quickchart {\n",
              "      --bg-color: #3B4455;\n",
              "      --fill-color: #D2E3FC;\n",
              "      --hover-bg-color: #434B5C;\n",
              "      --hover-fill-color: #FFFFFF;\n",
              "      --disabled-bg-color: #3B4455;\n",
              "      --disabled-fill-color: #666;\n",
              "  }\n",
              "\n",
              "  .colab-df-quickchart {\n",
              "    background-color: var(--bg-color);\n",
              "    border: none;\n",
              "    border-radius: 50%;\n",
              "    cursor: pointer;\n",
              "    display: none;\n",
              "    fill: var(--fill-color);\n",
              "    height: 32px;\n",
              "    padding: 0;\n",
              "    width: 32px;\n",
              "  }\n",
              "\n",
              "  .colab-df-quickchart:hover {\n",
              "    background-color: var(--hover-bg-color);\n",
              "    box-shadow: 0 1px 2px rgba(60, 64, 67, 0.3), 0 1px 3px 1px rgba(60, 64, 67, 0.15);\n",
              "    fill: var(--button-hover-fill-color);\n",
              "  }\n",
              "\n",
              "  .colab-df-quickchart-complete:disabled,\n",
              "  .colab-df-quickchart-complete:disabled:hover {\n",
              "    background-color: var(--disabled-bg-color);\n",
              "    fill: var(--disabled-fill-color);\n",
              "    box-shadow: none;\n",
              "  }\n",
              "\n",
              "  .colab-df-spinner {\n",
              "    border: 2px solid var(--fill-color);\n",
              "    border-color: transparent;\n",
              "    border-bottom-color: var(--fill-color);\n",
              "    animation:\n",
              "      spin 1s steps(1) infinite;\n",
              "  }\n",
              "\n",
              "  @keyframes spin {\n",
              "    0% {\n",
              "      border-color: transparent;\n",
              "      border-bottom-color: var(--fill-color);\n",
              "      border-left-color: var(--fill-color);\n",
              "    }\n",
              "    20% {\n",
              "      border-color: transparent;\n",
              "      border-left-color: var(--fill-color);\n",
              "      border-top-color: var(--fill-color);\n",
              "    }\n",
              "    30% {\n",
              "      border-color: transparent;\n",
              "      border-left-color: var(--fill-color);\n",
              "      border-top-color: var(--fill-color);\n",
              "      border-right-color: var(--fill-color);\n",
              "    }\n",
              "    40% {\n",
              "      border-color: transparent;\n",
              "      border-right-color: var(--fill-color);\n",
              "      border-top-color: var(--fill-color);\n",
              "    }\n",
              "    60% {\n",
              "      border-color: transparent;\n",
              "      border-right-color: var(--fill-color);\n",
              "    }\n",
              "    80% {\n",
              "      border-color: transparent;\n",
              "      border-right-color: var(--fill-color);\n",
              "      border-bottom-color: var(--fill-color);\n",
              "    }\n",
              "    90% {\n",
              "      border-color: transparent;\n",
              "      border-bottom-color: var(--fill-color);\n",
              "    }\n",
              "  }\n",
              "</style>\n",
              "\n",
              "  <script>\n",
              "    async function quickchart(key) {\n",
              "      const quickchartButtonEl =\n",
              "        document.querySelector('#' + key + ' button');\n",
              "      quickchartButtonEl.disabled = true;  // To prevent multiple clicks.\n",
              "      quickchartButtonEl.classList.add('colab-df-spinner');\n",
              "      try {\n",
              "        const charts = await google.colab.kernel.invokeFunction(\n",
              "            'suggestCharts', [key], {});\n",
              "      } catch (error) {\n",
              "        console.error('Error during call to suggestCharts:', error);\n",
              "      }\n",
              "      quickchartButtonEl.classList.remove('colab-df-spinner');\n",
              "      quickchartButtonEl.classList.add('colab-df-quickchart-complete');\n",
              "    }\n",
              "    (() => {\n",
              "      let quickchartButtonEl =\n",
              "        document.querySelector('#df-6cc7332e-9838-44e3-b24d-557d5d03148e button');\n",
              "      quickchartButtonEl.style.display =\n",
              "        google.colab.kernel.accessAllowed ? 'block' : 'none';\n",
              "    })();\n",
              "  </script>\n",
              "</div>\n",
              "\n",
              "    </div>\n",
              "  </div>\n"
            ],
            "application/vnd.google.colaboratory.intrinsic+json": {
              "type": "dataframe",
              "summary": "{\n  \"name\": \"state\",\n  \"rows\": 10000,\n  \"fields\": [\n    {\n      \"column\": \"S1\",\n      \"properties\": {\n        \"dtype\": \"number\",\n        \"std\": 1.4550393147758753,\n        \"min\": 0.01,\n        \"max\": 5.0,\n        \"num_unique_values\": 100,\n        \"samples\": [\n          4.193535353535354,\n          2.6814141414141415,\n          3.5382828282828283\n        ],\n        \"semantic_type\": \"\",\n        \"description\": \"\"\n      }\n    },\n    {\n      \"column\": \"S2\",\n      \"properties\": {\n        \"dtype\": \"number\",\n        \"std\": 1.4550393147758751,\n        \"min\": 0.01,\n        \"max\": 5.0,\n        \"num_unique_values\": 100,\n        \"samples\": [\n          4.193535353535354,\n          2.6814141414141415,\n          3.5382828282828283\n        ],\n        \"semantic_type\": \"\",\n        \"description\": \"\"\n      }\n    }\n  ]\n}"
            }
          },
          "metadata": {},
          "execution_count": 35
        }
      ]
    },
    {
      "cell_type": "markdown",
      "source": [
        "Let's do try a different pooler that creates a random pool:"
      ],
      "metadata": {
        "id": "1BAuGqALqOih"
      }
    },
    {
      "cell_type": "code",
      "source": [
        "@on_state()\n",
        "def random_pool_on_state(variables, num_samples, random_state=None):\n",
        "  return Delta(conditions=random_pool(variables, num_samples, random_state))"
      ],
      "metadata": {
        "id": "G1U9GqaWog5c"
      },
      "execution_count": null,
      "outputs": []
    },
    {
      "cell_type": "markdown",
      "source": [
        "Here, the `random_pool` functions expects more arguments: `num_samples` and `random_state`. But these are not fields of the state! When we run this on the state, we will receive an error message:"
      ],
      "metadata": {
        "id": "VhHSPgaMqnZp"
      }
    },
    {
      "cell_type": "code",
      "source": [
        "state = random_pool_on_state(state)"
      ],
      "metadata": {
        "colab": {
          "base_uri": "https://localhost:8080/",
          "height": 293
        },
        "id": "St8kTHE0qkQk",
        "outputId": "f736e374-65af-4400-fd95-5a401f5f19af"
      },
      "execution_count": null,
      "outputs": [
        {
          "output_type": "error",
          "ename": "TypeError",
          "evalue": "random_pool_on_state() missing 1 required positional argument: 'num_samples'",
          "traceback": [
            "\u001b[0;31m---------------------------------------------------------------------------\u001b[0m",
            "\u001b[0;31mTypeError\u001b[0m                                 Traceback (most recent call last)",
            "\u001b[0;32m<ipython-input-37-a9b2d0f0636d>\u001b[0m in \u001b[0;36m<cell line: 1>\u001b[0;34m()\u001b[0m\n\u001b[0;32m----> 1\u001b[0;31m \u001b[0mstate\u001b[0m \u001b[0;34m=\u001b[0m \u001b[0mrandom_pool_on_state\u001b[0m\u001b[0;34m(\u001b[0m\u001b[0mstate\u001b[0m\u001b[0;34m)\u001b[0m\u001b[0;34m\u001b[0m\u001b[0;34m\u001b[0m\u001b[0m\n\u001b[0m",
            "\u001b[0;32m/usr/local/lib/python3.10/dist-packages/autora/state.py\u001b[0m in \u001b[0;36m_f\u001b[0;34m(state_, **kwargs)\u001b[0m\n\u001b[1;32m    937\u001b[0m     \u001b[0;34m@\u001b[0m\u001b[0mwraps\u001b[0m\u001b[0;34m(\u001b[0m\u001b[0mf\u001b[0m\u001b[0;34m)\u001b[0m\u001b[0;34m\u001b[0m\u001b[0;34m\u001b[0m\u001b[0m\n\u001b[1;32m    938\u001b[0m     \u001b[0;32mdef\u001b[0m \u001b[0m_f\u001b[0m\u001b[0;34m(\u001b[0m\u001b[0mstate_\u001b[0m\u001b[0;34m:\u001b[0m \u001b[0mS\u001b[0m\u001b[0;34m,\u001b[0m \u001b[0;34m**\u001b[0m\u001b[0mkwargs\u001b[0m\u001b[0;34m)\u001b[0m \u001b[0;34m->\u001b[0m \u001b[0mS\u001b[0m\u001b[0;34m:\u001b[0m\u001b[0;34m\u001b[0m\u001b[0;34m\u001b[0m\u001b[0m\n\u001b[0;32m--> 939\u001b[0;31m         \u001b[0mdelta\u001b[0m \u001b[0;34m=\u001b[0m \u001b[0mf\u001b[0m\u001b[0;34m(\u001b[0m\u001b[0mstate_\u001b[0m\u001b[0;34m,\u001b[0m \u001b[0;34m**\u001b[0m\u001b[0mkwargs\u001b[0m\u001b[0;34m)\u001b[0m\u001b[0;34m\u001b[0m\u001b[0;34m\u001b[0m\u001b[0m\n\u001b[0m\u001b[1;32m    940\u001b[0m         assert isinstance(delta, Mapping), (\n\u001b[1;32m    941\u001b[0m             \u001b[0;34m\"Output of %s must be a `Delta`, `UserDict`, \"\u001b[0m \u001b[0;34m\"or `dict`.\"\u001b[0m \u001b[0;34m%\u001b[0m \u001b[0mf\u001b[0m\u001b[0;34m\u001b[0m\u001b[0;34m\u001b[0m\u001b[0m\n",
            "\u001b[0;32m/usr/local/lib/python3.10/dist-packages/autora/state.py\u001b[0m in \u001b[0;36m_f\u001b[0;34m(state_, **kwargs)\u001b[0m\n\u001b[1;32m    673\u001b[0m             \u001b[0marguments_from_state\u001b[0m\u001b[0;34m[\u001b[0m\u001b[0;34m\"state\"\u001b[0m\u001b[0;34m]\u001b[0m \u001b[0;34m=\u001b[0m \u001b[0mstate_\u001b[0m\u001b[0;34m\u001b[0m\u001b[0;34m\u001b[0m\u001b[0m\n\u001b[1;32m    674\u001b[0m         \u001b[0marguments\u001b[0m \u001b[0;34m=\u001b[0m \u001b[0mdict\u001b[0m\u001b[0;34m(\u001b[0m\u001b[0marguments_from_state\u001b[0m\u001b[0;34m,\u001b[0m \u001b[0;34m**\u001b[0m\u001b[0mkwargs\u001b[0m\u001b[0;34m)\u001b[0m\u001b[0;34m\u001b[0m\u001b[0;34m\u001b[0m\u001b[0m\n\u001b[0;32m--> 675\u001b[0;31m         \u001b[0mresult\u001b[0m \u001b[0;34m=\u001b[0m \u001b[0mf\u001b[0m\u001b[0;34m(\u001b[0m\u001b[0;34m**\u001b[0m\u001b[0marguments\u001b[0m\u001b[0;34m)\u001b[0m\u001b[0;34m\u001b[0m\u001b[0;34m\u001b[0m\u001b[0m\n\u001b[0m\u001b[1;32m    676\u001b[0m         \u001b[0;32mreturn\u001b[0m \u001b[0mresult\u001b[0m\u001b[0;34m\u001b[0m\u001b[0;34m\u001b[0m\u001b[0m\n\u001b[1;32m    677\u001b[0m \u001b[0;34m\u001b[0m\u001b[0m\n",
            "\u001b[0;31mTypeError\u001b[0m: random_pool_on_state() missing 1 required positional argument: 'num_samples'"
          ]
        }
      ]
    },
    {
      "cell_type": "markdown",
      "source": [
        "We need to provide `num_samples`! The reason that we don't need to provide `random_state` is that we defined a default argument when declaring the function.\n",
        "\n",
        "!!! Warning: You need to provide the keyword in the wrapped function:"
      ],
      "metadata": {
        "id": "Jgp_2Zv-rPWI"
      }
    },
    {
      "cell_type": "code",
      "source": [
        "# This still throws an error:\n",
        "state = random_pool_on_state(state, 5)"
      ],
      "metadata": {
        "colab": {
          "base_uri": "https://localhost:8080/",
          "height": 162
        },
        "id": "_pU1wWWRri_c",
        "outputId": "d840879c-95dd-4135-a777-29508057489c"
      },
      "execution_count": null,
      "outputs": [
        {
          "output_type": "error",
          "ename": "TypeError",
          "evalue": "random_pool_on_state() takes 1 positional argument but 2 were given",
          "traceback": [
            "\u001b[0;31m---------------------------------------------------------------------------\u001b[0m",
            "\u001b[0;31mTypeError\u001b[0m                                 Traceback (most recent call last)",
            "\u001b[0;32m<ipython-input-24-31dec12b8855>\u001b[0m in \u001b[0;36m<cell line: 2>\u001b[0;34m()\u001b[0m\n\u001b[1;32m      1\u001b[0m \u001b[0;31m# This still throws an error:\u001b[0m\u001b[0;34m\u001b[0m\u001b[0;34m\u001b[0m\u001b[0m\n\u001b[0;32m----> 2\u001b[0;31m \u001b[0mstate\u001b[0m \u001b[0;34m=\u001b[0m \u001b[0mrandom_pool_on_state\u001b[0m\u001b[0;34m(\u001b[0m\u001b[0mstate\u001b[0m\u001b[0;34m,\u001b[0m \u001b[0;36m5\u001b[0m\u001b[0;34m)\u001b[0m\u001b[0;34m\u001b[0m\u001b[0;34m\u001b[0m\u001b[0m\n\u001b[0m",
            "\u001b[0;31mTypeError\u001b[0m: random_pool_on_state() takes 1 positional argument but 2 were given"
          ]
        }
      ]
    },
    {
      "cell_type": "markdown",
      "source": [],
      "metadata": {
        "id": "KaihY6viqNxS"
      }
    },
    {
      "cell_type": "code",
      "source": [
        "# This works:\n",
        "state = random_pool_on_state(state, num_samples=10)\n",
        "state.conditions"
      ],
      "metadata": {
        "colab": {
          "base_uri": "https://localhost:8080/",
          "height": 363
        },
        "id": "CDzB9XrJry4x",
        "outputId": "0bd24b84-d62f-4efb-ba1e-056798657d2c"
      },
      "execution_count": null,
      "outputs": [
        {
          "output_type": "execute_result",
          "data": {
            "text/plain": [
              "         S1        S2\n",
              "0  4.243939  0.917273\n",
              "1  1.874949  1.572525\n",
              "2  4.697576  2.328586\n",
              "3  3.286263  3.588687\n",
              "4  1.370909  2.278182\n",
              "5  4.495960  2.983838\n",
              "6  1.118889  1.018081\n",
              "7  0.514040  4.697576\n",
              "8  0.665253  1.068485\n",
              "9  3.286263  1.622929"
            ],
            "text/html": [
              "\n",
              "  <div id=\"df-19031654-12be-4d54-b1eb-ec65c2371746\" class=\"colab-df-container\">\n",
              "    <div>\n",
              "<style scoped>\n",
              "    .dataframe tbody tr th:only-of-type {\n",
              "        vertical-align: middle;\n",
              "    }\n",
              "\n",
              "    .dataframe tbody tr th {\n",
              "        vertical-align: top;\n",
              "    }\n",
              "\n",
              "    .dataframe thead th {\n",
              "        text-align: right;\n",
              "    }\n",
              "</style>\n",
              "<table border=\"1\" class=\"dataframe\">\n",
              "  <thead>\n",
              "    <tr style=\"text-align: right;\">\n",
              "      <th></th>\n",
              "      <th>S1</th>\n",
              "      <th>S2</th>\n",
              "    </tr>\n",
              "  </thead>\n",
              "  <tbody>\n",
              "    <tr>\n",
              "      <th>0</th>\n",
              "      <td>4.243939</td>\n",
              "      <td>0.917273</td>\n",
              "    </tr>\n",
              "    <tr>\n",
              "      <th>1</th>\n",
              "      <td>1.874949</td>\n",
              "      <td>1.572525</td>\n",
              "    </tr>\n",
              "    <tr>\n",
              "      <th>2</th>\n",
              "      <td>4.697576</td>\n",
              "      <td>2.328586</td>\n",
              "    </tr>\n",
              "    <tr>\n",
              "      <th>3</th>\n",
              "      <td>3.286263</td>\n",
              "      <td>3.588687</td>\n",
              "    </tr>\n",
              "    <tr>\n",
              "      <th>4</th>\n",
              "      <td>1.370909</td>\n",
              "      <td>2.278182</td>\n",
              "    </tr>\n",
              "    <tr>\n",
              "      <th>5</th>\n",
              "      <td>4.495960</td>\n",
              "      <td>2.983838</td>\n",
              "    </tr>\n",
              "    <tr>\n",
              "      <th>6</th>\n",
              "      <td>1.118889</td>\n",
              "      <td>1.018081</td>\n",
              "    </tr>\n",
              "    <tr>\n",
              "      <th>7</th>\n",
              "      <td>0.514040</td>\n",
              "      <td>4.697576</td>\n",
              "    </tr>\n",
              "    <tr>\n",
              "      <th>8</th>\n",
              "      <td>0.665253</td>\n",
              "      <td>1.068485</td>\n",
              "    </tr>\n",
              "    <tr>\n",
              "      <th>9</th>\n",
              "      <td>3.286263</td>\n",
              "      <td>1.622929</td>\n",
              "    </tr>\n",
              "  </tbody>\n",
              "</table>\n",
              "</div>\n",
              "    <div class=\"colab-df-buttons\">\n",
              "\n",
              "  <div class=\"colab-df-container\">\n",
              "    <button class=\"colab-df-convert\" onclick=\"convertToInteractive('df-19031654-12be-4d54-b1eb-ec65c2371746')\"\n",
              "            title=\"Convert this dataframe to an interactive table.\"\n",
              "            style=\"display:none;\">\n",
              "\n",
              "  <svg xmlns=\"http://www.w3.org/2000/svg\" height=\"24px\" viewBox=\"0 -960 960 960\">\n",
              "    <path d=\"M120-120v-720h720v720H120Zm60-500h600v-160H180v160Zm220 220h160v-160H400v160Zm0 220h160v-160H400v160ZM180-400h160v-160H180v160Zm440 0h160v-160H620v160ZM180-180h160v-160H180v160Zm440 0h160v-160H620v160Z\"/>\n",
              "  </svg>\n",
              "    </button>\n",
              "\n",
              "  <style>\n",
              "    .colab-df-container {\n",
              "      display:flex;\n",
              "      gap: 12px;\n",
              "    }\n",
              "\n",
              "    .colab-df-convert {\n",
              "      background-color: #E8F0FE;\n",
              "      border: none;\n",
              "      border-radius: 50%;\n",
              "      cursor: pointer;\n",
              "      display: none;\n",
              "      fill: #1967D2;\n",
              "      height: 32px;\n",
              "      padding: 0 0 0 0;\n",
              "      width: 32px;\n",
              "    }\n",
              "\n",
              "    .colab-df-convert:hover {\n",
              "      background-color: #E2EBFA;\n",
              "      box-shadow: 0px 1px 2px rgba(60, 64, 67, 0.3), 0px 1px 3px 1px rgba(60, 64, 67, 0.15);\n",
              "      fill: #174EA6;\n",
              "    }\n",
              "\n",
              "    .colab-df-buttons div {\n",
              "      margin-bottom: 4px;\n",
              "    }\n",
              "\n",
              "    [theme=dark] .colab-df-convert {\n",
              "      background-color: #3B4455;\n",
              "      fill: #D2E3FC;\n",
              "    }\n",
              "\n",
              "    [theme=dark] .colab-df-convert:hover {\n",
              "      background-color: #434B5C;\n",
              "      box-shadow: 0px 1px 3px 1px rgba(0, 0, 0, 0.15);\n",
              "      filter: drop-shadow(0px 1px 2px rgba(0, 0, 0, 0.3));\n",
              "      fill: #FFFFFF;\n",
              "    }\n",
              "  </style>\n",
              "\n",
              "    <script>\n",
              "      const buttonEl =\n",
              "        document.querySelector('#df-19031654-12be-4d54-b1eb-ec65c2371746 button.colab-df-convert');\n",
              "      buttonEl.style.display =\n",
              "        google.colab.kernel.accessAllowed ? 'block' : 'none';\n",
              "\n",
              "      async function convertToInteractive(key) {\n",
              "        const element = document.querySelector('#df-19031654-12be-4d54-b1eb-ec65c2371746');\n",
              "        const dataTable =\n",
              "          await google.colab.kernel.invokeFunction('convertToInteractive',\n",
              "                                                    [key], {});\n",
              "        if (!dataTable) return;\n",
              "\n",
              "        const docLinkHtml = 'Like what you see? Visit the ' +\n",
              "          '<a target=\"_blank\" href=https://colab.research.google.com/notebooks/data_table.ipynb>data table notebook</a>'\n",
              "          + ' to learn more about interactive tables.';\n",
              "        element.innerHTML = '';\n",
              "        dataTable['output_type'] = 'display_data';\n",
              "        await google.colab.output.renderOutput(dataTable, element);\n",
              "        const docLink = document.createElement('div');\n",
              "        docLink.innerHTML = docLinkHtml;\n",
              "        element.appendChild(docLink);\n",
              "      }\n",
              "    </script>\n",
              "  </div>\n",
              "\n",
              "\n",
              "<div id=\"df-8697ba87-5626-429c-a899-ab1c45343e91\">\n",
              "  <button class=\"colab-df-quickchart\" onclick=\"quickchart('df-8697ba87-5626-429c-a899-ab1c45343e91')\"\n",
              "            title=\"Suggest charts\"\n",
              "            style=\"display:none;\">\n",
              "\n",
              "<svg xmlns=\"http://www.w3.org/2000/svg\" height=\"24px\"viewBox=\"0 0 24 24\"\n",
              "     width=\"24px\">\n",
              "    <g>\n",
              "        <path d=\"M19 3H5c-1.1 0-2 .9-2 2v14c0 1.1.9 2 2 2h14c1.1 0 2-.9 2-2V5c0-1.1-.9-2-2-2zM9 17H7v-7h2v7zm4 0h-2V7h2v10zm4 0h-2v-4h2v4z\"/>\n",
              "    </g>\n",
              "</svg>\n",
              "  </button>\n",
              "\n",
              "<style>\n",
              "  .colab-df-quickchart {\n",
              "      --bg-color: #E8F0FE;\n",
              "      --fill-color: #1967D2;\n",
              "      --hover-bg-color: #E2EBFA;\n",
              "      --hover-fill-color: #174EA6;\n",
              "      --disabled-fill-color: #AAA;\n",
              "      --disabled-bg-color: #DDD;\n",
              "  }\n",
              "\n",
              "  [theme=dark] .colab-df-quickchart {\n",
              "      --bg-color: #3B4455;\n",
              "      --fill-color: #D2E3FC;\n",
              "      --hover-bg-color: #434B5C;\n",
              "      --hover-fill-color: #FFFFFF;\n",
              "      --disabled-bg-color: #3B4455;\n",
              "      --disabled-fill-color: #666;\n",
              "  }\n",
              "\n",
              "  .colab-df-quickchart {\n",
              "    background-color: var(--bg-color);\n",
              "    border: none;\n",
              "    border-radius: 50%;\n",
              "    cursor: pointer;\n",
              "    display: none;\n",
              "    fill: var(--fill-color);\n",
              "    height: 32px;\n",
              "    padding: 0;\n",
              "    width: 32px;\n",
              "  }\n",
              "\n",
              "  .colab-df-quickchart:hover {\n",
              "    background-color: var(--hover-bg-color);\n",
              "    box-shadow: 0 1px 2px rgba(60, 64, 67, 0.3), 0 1px 3px 1px rgba(60, 64, 67, 0.15);\n",
              "    fill: var(--button-hover-fill-color);\n",
              "  }\n",
              "\n",
              "  .colab-df-quickchart-complete:disabled,\n",
              "  .colab-df-quickchart-complete:disabled:hover {\n",
              "    background-color: var(--disabled-bg-color);\n",
              "    fill: var(--disabled-fill-color);\n",
              "    box-shadow: none;\n",
              "  }\n",
              "\n",
              "  .colab-df-spinner {\n",
              "    border: 2px solid var(--fill-color);\n",
              "    border-color: transparent;\n",
              "    border-bottom-color: var(--fill-color);\n",
              "    animation:\n",
              "      spin 1s steps(1) infinite;\n",
              "  }\n",
              "\n",
              "  @keyframes spin {\n",
              "    0% {\n",
              "      border-color: transparent;\n",
              "      border-bottom-color: var(--fill-color);\n",
              "      border-left-color: var(--fill-color);\n",
              "    }\n",
              "    20% {\n",
              "      border-color: transparent;\n",
              "      border-left-color: var(--fill-color);\n",
              "      border-top-color: var(--fill-color);\n",
              "    }\n",
              "    30% {\n",
              "      border-color: transparent;\n",
              "      border-left-color: var(--fill-color);\n",
              "      border-top-color: var(--fill-color);\n",
              "      border-right-color: var(--fill-color);\n",
              "    }\n",
              "    40% {\n",
              "      border-color: transparent;\n",
              "      border-right-color: var(--fill-color);\n",
              "      border-top-color: var(--fill-color);\n",
              "    }\n",
              "    60% {\n",
              "      border-color: transparent;\n",
              "      border-right-color: var(--fill-color);\n",
              "    }\n",
              "    80% {\n",
              "      border-color: transparent;\n",
              "      border-right-color: var(--fill-color);\n",
              "      border-bottom-color: var(--fill-color);\n",
              "    }\n",
              "    90% {\n",
              "      border-color: transparent;\n",
              "      border-bottom-color: var(--fill-color);\n",
              "    }\n",
              "  }\n",
              "</style>\n",
              "\n",
              "  <script>\n",
              "    async function quickchart(key) {\n",
              "      const quickchartButtonEl =\n",
              "        document.querySelector('#' + key + ' button');\n",
              "      quickchartButtonEl.disabled = true;  // To prevent multiple clicks.\n",
              "      quickchartButtonEl.classList.add('colab-df-spinner');\n",
              "      try {\n",
              "        const charts = await google.colab.kernel.invokeFunction(\n",
              "            'suggestCharts', [key], {});\n",
              "      } catch (error) {\n",
              "        console.error('Error during call to suggestCharts:', error);\n",
              "      }\n",
              "      quickchartButtonEl.classList.remove('colab-df-spinner');\n",
              "      quickchartButtonEl.classList.add('colab-df-quickchart-complete');\n",
              "    }\n",
              "    (() => {\n",
              "      let quickchartButtonEl =\n",
              "        document.querySelector('#df-8697ba87-5626-429c-a899-ab1c45343e91 button');\n",
              "      quickchartButtonEl.style.display =\n",
              "        google.colab.kernel.accessAllowed ? 'block' : 'none';\n",
              "    })();\n",
              "  </script>\n",
              "</div>\n",
              "\n",
              "    </div>\n",
              "  </div>\n"
            ],
            "application/vnd.google.colaboratory.intrinsic+json": {
              "type": "dataframe",
              "summary": "{\n  \"name\": \"state\",\n  \"rows\": 10,\n  \"fields\": [\n    {\n      \"column\": \"S1\",\n      \"properties\": {\n        \"dtype\": \"number\",\n        \"std\": 1.6310724629884157,\n        \"min\": 0.5140404040404041,\n        \"max\": 4.697575757575758,\n        \"num_unique_values\": 9,\n        \"samples\": [\n          0.5140404040404041,\n          1.8749494949494951,\n          4.495959595959596\n        ],\n        \"semantic_type\": \"\",\n        \"description\": \"\"\n      }\n    },\n    {\n      \"column\": \"S2\",\n      \"properties\": {\n        \"dtype\": \"number\",\n        \"std\": 1.2406176368078332,\n        \"min\": 0.9172727272727274,\n        \"max\": 4.697575757575758,\n        \"num_unique_values\": 10,\n        \"samples\": [\n          1.0684848484848486,\n          1.5725252525252527,\n          2.9838383838383837\n        ],\n        \"semantic_type\": \"\",\n        \"description\": \"\"\n      }\n    }\n  ]\n}"
            }
          },
          "metadata": {},
          "execution_count": 39
        }
      ]
    },
    {
      "cell_type": "markdown",
      "source": [
        "# Practice\n",
        "\n",
        "## 1. Sampler\n",
        "\n",
        "Sample 5 conditions from the pool using the `random_sample` function and wrap it:"
      ],
      "metadata": {
        "id": "4rVVAqigsvao"
      }
    },
    {
      "cell_type": "markdown",
      "source": [],
      "metadata": {
        "id": "PoZFxou1nhwQ"
      }
    },
    {
      "cell_type": "code",
      "source": [
        "@on_state()\n",
        "def random_sample_on_state(conditions):\n",
        "  return Delta(conditions=random_sample(...))"
      ],
      "metadata": {
        "id": "4M_04S4VtEW1"
      },
      "execution_count": null,
      "outputs": []
    },
    {
      "cell_type": "code",
      "source": [
        "state = grid_pool_on_state(state)\n",
        "state = random_sample_on_state(...)"
      ],
      "metadata": {
        "id": "w2EjLsP7th6C"
      },
      "execution_count": null,
      "outputs": []
    },
    {
      "cell_type": "markdown",
      "source": [
        "## 2. Experiment Data\n",
        "\n",
        "Create experiment data by running the synthetic runner on stat:\n",
        "\n"
      ],
      "metadata": {
        "id": "mcongnGatmmr"
      }
    },
    {
      "cell_type": "code",
      "source": [
        "@on_state()\n",
        "def run_on_state(conditions):\n",
        "  data = experiment_runner.run(...)\n",
        "  return Delta(experiment_data=data)"
      ],
      "metadata": {
        "id": "1sCCQLFRtw4Y"
      },
      "execution_count": null,
      "outputs": []
    },
    {
      "cell_type": "code",
      "source": [
        "state = run_on_state(...)"
      ],
      "metadata": {
        "id": "xn4BNJIxuFuF"
      },
      "execution_count": null,
      "outputs": []
    },
    {
      "cell_type": "markdown",
      "source": [
        "## 4. Model\n",
        "\n",
        "Create a model using the BMS regressor.\n",
        "\n",
        "\n",
        "!!! Note: An \"oddity\" of autora is, that it expects a object of type list when appending to the models-field"
      ],
      "metadata": {
        "id": "-y6lfoZXuIdI"
      }
    },
    {
      "cell_type": "code",
      "source": [
        "@on_state()\n",
        "def bms_on_state(...):\n",
        "  regressor = BMSRegressor(epochs=10)\n",
        "  X = ...\n",
        "  y = ...\n",
        "  regressor.fit(X, y)\n",
        "  return Delta(...=[regressor])"
      ],
      "metadata": {
        "id": "mcdDd0IDuXW6"
      },
      "execution_count": null,
      "outputs": []
    },
    {
      "cell_type": "code",
      "source": [
        "state = bms_on_state(...)"
      ],
      "metadata": {
        "id": "mP2kUyKhvNmr"
      },
      "execution_count": null,
      "outputs": []
    },
    {
      "cell_type": "markdown",
      "source": [
        "Now all the fields should be filled:"
      ],
      "metadata": {
        "id": "AHLrRCLyvRpI"
      }
    },
    {
      "cell_type": "code",
      "source": [
        "print('Variables', state.variables)\n",
        "print('Conditions', state.conditions)\n",
        "print('Experiment Data', state.experiment_data)\n",
        "print('Models', state.models)"
      ],
      "metadata": {
        "id": "dgTtKKIsvWfk"
      },
      "execution_count": null,
      "outputs": []
    },
    {
      "cell_type": "markdown",
      "source": [
        "# Why use State?\n",
        "\n",
        "After setting up the state-functions, you have a lot of flexibility in using the functions. All of them now work on the state and return a state. You can arbitrarily chain. For example, you can create loops, select specific experimentalists/ runners or theorists on conditions...:"
      ],
      "metadata": {
        "id": "pdMaXAhYvghz"
      }
    },
    {
      "cell_type": "code",
      "source": [
        "for i in range(10):\n",
        "  if i%2:\n",
        "    state = random_pool_on_state(state, num_samples=5)\n",
        "  else:\n",
        "    state = random_pool_on_state(state, num_samples=10)\n",
        "  state = run_on_state(state, ...)\n",
        "  state = bms_on_state(state, ...)"
      ],
      "metadata": {
        "id": "o0cCMzPfv4F6"
      },
      "execution_count": null,
      "outputs": []
    },
    {
      "cell_type": "markdown",
      "source": [],
      "metadata": {
        "id": "3nmLmrT7u9y8"
      }
    },
    {
      "cell_type": "markdown",
      "source": [],
      "metadata": {
        "id": "90dE7fTJuCdt"
      }
    }
  ]
}